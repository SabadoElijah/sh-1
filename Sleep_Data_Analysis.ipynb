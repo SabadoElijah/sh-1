{
  "cells": [
    {
      "cell_type": "code",
      "execution_count": null,
      "id": "initial_id",
      "metadata": {
        "collapsed": true,
        "ExecuteTime": {
          "end_time": "2024-04-16T13:11:21.826304300Z",
          "start_time": "2024-04-16T13:11:21.823329100Z"
        },
        "id": "initial_id"
      },
      "outputs": [],
      "source": [
        "import pandas as pd\n",
        "import matplotlib.pyplot as plt\n",
        "import seaborn as sns\n",
        "import numpy as np\n",
        "import warnings\n",
        "import joblib\n",
        "warnings.filterwarnings(\"ignore\")\n",
        "from sklearn.model_selection import train_test_split, cross_val_predict, cross_val_score\n",
        "from sklearn.preprocessing import StandardScaler, LabelEncoder\n",
        "from sklearn.linear_model import LogisticRegression\n",
        "from sklearn.tree import DecisionTreeClassifier\n",
        "from sklearn.metrics import confusion_matrix, precision_score, recall_score, f1_score, classification_report, accuracy_score\n",
        "import tensorflow as tf\n",
        "\n",
        "from sklearn.metrics import mean_squared_error, r2_score\n"
      ]
    },
    {
      "cell_type": "code",
      "execution_count": null,
      "outputs": [],
      "source": [
        "# Loading Multiple  CSV\n",
        "csv1 = pd.read_csv(\"Data1.csv\")\n",
        "csv1['Person'] = '1'\n",
        "\n",
        "csv2 = pd.read_csv(\"Data2.csv\")\n",
        "csv2['Person'] = '2'\n",
        "\n",
        "csv3 = pd.read_csv(\"Data3.csv\")\n",
        "csv3['Person'] = '3'\n",
        "\n",
        "# Combine into one DataFrame\n",
        "combined_df = pd.concat([csv1, csv2, csv3], ignore_index=True)\n",
        "\n",
        "# Write to a new CSV file\n",
        "combined_df.to_csv(\"combined_data.csv\", index=False)"
      ],
      "metadata": {
        "ExecuteTime": {
          "end_time": "2024-04-16T12:22:42.221806800Z",
          "start_time": "2024-04-16T12:22:41.802976300Z"
        },
        "id": "ab6317e696953ccb"
      },
      "id": "ab6317e696953ccb"
    },
    {
      "cell_type": "markdown",
      "source": [
        "# Preprocessing"
      ],
      "metadata": {
        "collapsed": false,
        "id": "20e802479003a1b9"
      },
      "id": "20e802479003a1b9"
    },
    {
      "cell_type": "code",
      "execution_count": null,
      "outputs": [
        {
          "output_type": "execute_result",
          "data": {
            "text/plain": [
              "                                  0                                 1       \\\n",
              "ID                  -NtRbm_DcFo4HGfcZkay              -NtRbo1VIt2ERLbqS0Hf   \n",
              "BPM                                 3.59                             12.48   \n",
              "Date    Thursday,-March-21-2024-00:08:37  Thursday,-March-21-2024-00:08:37   \n",
              "Person                                 1                                 1   \n",
              "\n",
              "                                  2                                 3       \\\n",
              "ID                  -NtRboLy4M2_SDxFFX5L              -NtRbp-ib_C7bf5Y7enP   \n",
              "BPM                                19.71                             76.82   \n",
              "Date    Thursday,-March-21-2024-00:08:45  Thursday,-March-21-2024-00:08:45   \n",
              "Person                                 1                                 1   \n",
              "\n",
              "                                  4                                 5       \\\n",
              "ID                  -NtRbpI-9VoKY9uMQRfq              -NtRbpcNu9jEculqeSW2   \n",
              "BPM                                24.97                             90.77   \n",
              "Date    Thursday,-March-21-2024-00:08:45  Thursday,-March-21-2024-00:08:50   \n",
              "Person                                 1                                 1   \n",
              "\n",
              "                                  6                                 7       \\\n",
              "ID                  -NtRbpzQTip1l6bTCwSD              -NtRbqJcUDI7Yd1K94L_   \n",
              "BPM                                83.22                             90.77   \n",
              "Date    Thursday,-March-21-2024-00:08:50  Thursday,-March-21-2024-00:08:50   \n",
              "Person                                 1                                 1   \n",
              "\n",
              "                                  8                                 9       \\\n",
              "ID                  -NtRbqqD8zf_KeMknrFf              -NtRbrBzW6z3l0_8q3lx   \n",
              "BPM                                41.01                             78.84   \n",
              "Date    Thursday,-March-21-2024-00:08:55  Thursday,-March-21-2024-00:08:55   \n",
              "Person                                 1                                 1   \n",
              "\n",
              "        ...                          124324                          124325  \\\n",
              "ID      ...            -Nu8tiME6dl5ISK6NOCw            -Nu8tkF8EzSzR5alxTJQ   \n",
              "BPM     ...                            68.0                            71.0   \n",
              "Date    ...  Friday,-March-29-2024-19:09:45  Friday,-March-29-2024-19:09:54   \n",
              "Person  ...                               3                               3   \n",
              "\n",
              "                                124326                          124327  \\\n",
              "ID                -Nu8tmCCDRaLDzCQL-yY            -Nu8to9IdMXkDs4FyKu7   \n",
              "BPM                               78.0                            68.0   \n",
              "Date    Friday,-March-29-2024-19:10:02  Friday,-March-29-2024-19:10:10   \n",
              "Person                               3                               3   \n",
              "\n",
              "                                124328                          124329  \\\n",
              "ID                -Nu8tq6Nn9EO7dHfOTdp            -Nu8ts3Um4Fj1NWOPzmX   \n",
              "BPM                               71.0                            65.0   \n",
              "Date    Friday,-March-29-2024-19:10:18  Friday,-March-29-2024-19:10:26   \n",
              "Person                               3                               3   \n",
              "\n",
              "                                124330                          124331  \\\n",
              "ID                -Nu8tu0TRXBdjyqRRtEJ            -Nu8tvyZX-3PEqBFZX_R   \n",
              "BPM                               78.0                            75.0   \n",
              "Date    Friday,-March-29-2024-19:10:34  Friday,-March-29-2024-19:10:42   \n",
              "Person                               3                               3   \n",
              "\n",
              "                                124332                          124333  \n",
              "ID                -Nu8txvcHcPneDSBxf3z            -Nu8tzshPyqr95_8nJZO  \n",
              "BPM                               53.0                           136.0  \n",
              "Date    Friday,-March-29-2024-19:10:50  Friday,-March-29-2024-19:10:58  \n",
              "Person                               3                               3  \n",
              "\n",
              "[4 rows x 124334 columns]"
            ],
            "text/html": [
              "\n",
              "  <div id=\"df-264eaeb3-bcd9-4e5c-94c5-c9b7573fcad5\" class=\"colab-df-container\">\n",
              "    <div>\n",
              "<style scoped>\n",
              "    .dataframe tbody tr th:only-of-type {\n",
              "        vertical-align: middle;\n",
              "    }\n",
              "\n",
              "    .dataframe tbody tr th {\n",
              "        vertical-align: top;\n",
              "    }\n",
              "\n",
              "    .dataframe thead th {\n",
              "        text-align: right;\n",
              "    }\n",
              "</style>\n",
              "<table border=\"1\" class=\"dataframe\">\n",
              "  <thead>\n",
              "    <tr style=\"text-align: right;\">\n",
              "      <th></th>\n",
              "      <th>0</th>\n",
              "      <th>1</th>\n",
              "      <th>2</th>\n",
              "      <th>3</th>\n",
              "      <th>4</th>\n",
              "      <th>5</th>\n",
              "      <th>6</th>\n",
              "      <th>7</th>\n",
              "      <th>8</th>\n",
              "      <th>9</th>\n",
              "      <th>...</th>\n",
              "      <th>124324</th>\n",
              "      <th>124325</th>\n",
              "      <th>124326</th>\n",
              "      <th>124327</th>\n",
              "      <th>124328</th>\n",
              "      <th>124329</th>\n",
              "      <th>124330</th>\n",
              "      <th>124331</th>\n",
              "      <th>124332</th>\n",
              "      <th>124333</th>\n",
              "    </tr>\n",
              "  </thead>\n",
              "  <tbody>\n",
              "    <tr>\n",
              "      <th>ID</th>\n",
              "      <td>-NtRbm_DcFo4HGfcZkay</td>\n",
              "      <td>-NtRbo1VIt2ERLbqS0Hf</td>\n",
              "      <td>-NtRboLy4M2_SDxFFX5L</td>\n",
              "      <td>-NtRbp-ib_C7bf5Y7enP</td>\n",
              "      <td>-NtRbpI-9VoKY9uMQRfq</td>\n",
              "      <td>-NtRbpcNu9jEculqeSW2</td>\n",
              "      <td>-NtRbpzQTip1l6bTCwSD</td>\n",
              "      <td>-NtRbqJcUDI7Yd1K94L_</td>\n",
              "      <td>-NtRbqqD8zf_KeMknrFf</td>\n",
              "      <td>-NtRbrBzW6z3l0_8q3lx</td>\n",
              "      <td>...</td>\n",
              "      <td>-Nu8tiME6dl5ISK6NOCw</td>\n",
              "      <td>-Nu8tkF8EzSzR5alxTJQ</td>\n",
              "      <td>-Nu8tmCCDRaLDzCQL-yY</td>\n",
              "      <td>-Nu8to9IdMXkDs4FyKu7</td>\n",
              "      <td>-Nu8tq6Nn9EO7dHfOTdp</td>\n",
              "      <td>-Nu8ts3Um4Fj1NWOPzmX</td>\n",
              "      <td>-Nu8tu0TRXBdjyqRRtEJ</td>\n",
              "      <td>-Nu8tvyZX-3PEqBFZX_R</td>\n",
              "      <td>-Nu8txvcHcPneDSBxf3z</td>\n",
              "      <td>-Nu8tzshPyqr95_8nJZO</td>\n",
              "    </tr>\n",
              "    <tr>\n",
              "      <th>BPM</th>\n",
              "      <td>3.59</td>\n",
              "      <td>12.48</td>\n",
              "      <td>19.71</td>\n",
              "      <td>76.82</td>\n",
              "      <td>24.97</td>\n",
              "      <td>90.77</td>\n",
              "      <td>83.22</td>\n",
              "      <td>90.77</td>\n",
              "      <td>41.01</td>\n",
              "      <td>78.84</td>\n",
              "      <td>...</td>\n",
              "      <td>68.0</td>\n",
              "      <td>71.0</td>\n",
              "      <td>78.0</td>\n",
              "      <td>68.0</td>\n",
              "      <td>71.0</td>\n",
              "      <td>65.0</td>\n",
              "      <td>78.0</td>\n",
              "      <td>75.0</td>\n",
              "      <td>53.0</td>\n",
              "      <td>136.0</td>\n",
              "    </tr>\n",
              "    <tr>\n",
              "      <th>Date</th>\n",
              "      <td>Thursday,-March-21-2024-00:08:37</td>\n",
              "      <td>Thursday,-March-21-2024-00:08:37</td>\n",
              "      <td>Thursday,-March-21-2024-00:08:45</td>\n",
              "      <td>Thursday,-March-21-2024-00:08:45</td>\n",
              "      <td>Thursday,-March-21-2024-00:08:45</td>\n",
              "      <td>Thursday,-March-21-2024-00:08:50</td>\n",
              "      <td>Thursday,-March-21-2024-00:08:50</td>\n",
              "      <td>Thursday,-March-21-2024-00:08:50</td>\n",
              "      <td>Thursday,-March-21-2024-00:08:55</td>\n",
              "      <td>Thursday,-March-21-2024-00:08:55</td>\n",
              "      <td>...</td>\n",
              "      <td>Friday,-March-29-2024-19:09:45</td>\n",
              "      <td>Friday,-March-29-2024-19:09:54</td>\n",
              "      <td>Friday,-March-29-2024-19:10:02</td>\n",
              "      <td>Friday,-March-29-2024-19:10:10</td>\n",
              "      <td>Friday,-March-29-2024-19:10:18</td>\n",
              "      <td>Friday,-March-29-2024-19:10:26</td>\n",
              "      <td>Friday,-March-29-2024-19:10:34</td>\n",
              "      <td>Friday,-March-29-2024-19:10:42</td>\n",
              "      <td>Friday,-March-29-2024-19:10:50</td>\n",
              "      <td>Friday,-March-29-2024-19:10:58</td>\n",
              "    </tr>\n",
              "    <tr>\n",
              "      <th>Person</th>\n",
              "      <td>1</td>\n",
              "      <td>1</td>\n",
              "      <td>1</td>\n",
              "      <td>1</td>\n",
              "      <td>1</td>\n",
              "      <td>1</td>\n",
              "      <td>1</td>\n",
              "      <td>1</td>\n",
              "      <td>1</td>\n",
              "      <td>1</td>\n",
              "      <td>...</td>\n",
              "      <td>3</td>\n",
              "      <td>3</td>\n",
              "      <td>3</td>\n",
              "      <td>3</td>\n",
              "      <td>3</td>\n",
              "      <td>3</td>\n",
              "      <td>3</td>\n",
              "      <td>3</td>\n",
              "      <td>3</td>\n",
              "      <td>3</td>\n",
              "    </tr>\n",
              "  </tbody>\n",
              "</table>\n",
              "<p>4 rows × 124334 columns</p>\n",
              "</div>\n",
              "    <div class=\"colab-df-buttons\">\n",
              "\n",
              "  <div class=\"colab-df-container\">\n",
              "    <button class=\"colab-df-convert\" onclick=\"convertToInteractive('df-264eaeb3-bcd9-4e5c-94c5-c9b7573fcad5')\"\n",
              "            title=\"Convert this dataframe to an interactive table.\"\n",
              "            style=\"display:none;\">\n",
              "\n",
              "  <svg xmlns=\"http://www.w3.org/2000/svg\" height=\"24px\" viewBox=\"0 -960 960 960\">\n",
              "    <path d=\"M120-120v-720h720v720H120Zm60-500h600v-160H180v160Zm220 220h160v-160H400v160Zm0 220h160v-160H400v160ZM180-400h160v-160H180v160Zm440 0h160v-160H620v160ZM180-180h160v-160H180v160Zm440 0h160v-160H620v160Z\"/>\n",
              "  </svg>\n",
              "    </button>\n",
              "\n",
              "  <style>\n",
              "    .colab-df-container {\n",
              "      display:flex;\n",
              "      gap: 12px;\n",
              "    }\n",
              "\n",
              "    .colab-df-convert {\n",
              "      background-color: #E8F0FE;\n",
              "      border: none;\n",
              "      border-radius: 50%;\n",
              "      cursor: pointer;\n",
              "      display: none;\n",
              "      fill: #1967D2;\n",
              "      height: 32px;\n",
              "      padding: 0 0 0 0;\n",
              "      width: 32px;\n",
              "    }\n",
              "\n",
              "    .colab-df-convert:hover {\n",
              "      background-color: #E2EBFA;\n",
              "      box-shadow: 0px 1px 2px rgba(60, 64, 67, 0.3), 0px 1px 3px 1px rgba(60, 64, 67, 0.15);\n",
              "      fill: #174EA6;\n",
              "    }\n",
              "\n",
              "    .colab-df-buttons div {\n",
              "      margin-bottom: 4px;\n",
              "    }\n",
              "\n",
              "    [theme=dark] .colab-df-convert {\n",
              "      background-color: #3B4455;\n",
              "      fill: #D2E3FC;\n",
              "    }\n",
              "\n",
              "    [theme=dark] .colab-df-convert:hover {\n",
              "      background-color: #434B5C;\n",
              "      box-shadow: 0px 1px 3px 1px rgba(0, 0, 0, 0.15);\n",
              "      filter: drop-shadow(0px 1px 2px rgba(0, 0, 0, 0.3));\n",
              "      fill: #FFFFFF;\n",
              "    }\n",
              "  </style>\n",
              "\n",
              "    <script>\n",
              "      const buttonEl =\n",
              "        document.querySelector('#df-264eaeb3-bcd9-4e5c-94c5-c9b7573fcad5 button.colab-df-convert');\n",
              "      buttonEl.style.display =\n",
              "        google.colab.kernel.accessAllowed ? 'block' : 'none';\n",
              "\n",
              "      async function convertToInteractive(key) {\n",
              "        const element = document.querySelector('#df-264eaeb3-bcd9-4e5c-94c5-c9b7573fcad5');\n",
              "        const dataTable =\n",
              "          await google.colab.kernel.invokeFunction('convertToInteractive',\n",
              "                                                    [key], {});\n",
              "        if (!dataTable) return;\n",
              "\n",
              "        const docLinkHtml = 'Like what you see? Visit the ' +\n",
              "          '<a target=\"_blank\" href=https://colab.research.google.com/notebooks/data_table.ipynb>data table notebook</a>'\n",
              "          + ' to learn more about interactive tables.';\n",
              "        element.innerHTML = '';\n",
              "        dataTable['output_type'] = 'display_data';\n",
              "        await google.colab.output.renderOutput(dataTable, element);\n",
              "        const docLink = document.createElement('div');\n",
              "        docLink.innerHTML = docLinkHtml;\n",
              "        element.appendChild(docLink);\n",
              "      }\n",
              "    </script>\n",
              "  </div>\n",
              "\n",
              "\n",
              "<div id=\"df-8da5476b-4398-40b4-8679-9438a30641d7\">\n",
              "  <button class=\"colab-df-quickchart\" onclick=\"quickchart('df-8da5476b-4398-40b4-8679-9438a30641d7')\"\n",
              "            title=\"Suggest charts\"\n",
              "            style=\"display:none;\">\n",
              "\n",
              "<svg xmlns=\"http://www.w3.org/2000/svg\" height=\"24px\"viewBox=\"0 0 24 24\"\n",
              "     width=\"24px\">\n",
              "    <g>\n",
              "        <path d=\"M19 3H5c-1.1 0-2 .9-2 2v14c0 1.1.9 2 2 2h14c1.1 0 2-.9 2-2V5c0-1.1-.9-2-2-2zM9 17H7v-7h2v7zm4 0h-2V7h2v10zm4 0h-2v-4h2v4z\"/>\n",
              "    </g>\n",
              "</svg>\n",
              "  </button>\n",
              "\n",
              "<style>\n",
              "  .colab-df-quickchart {\n",
              "      --bg-color: #E8F0FE;\n",
              "      --fill-color: #1967D2;\n",
              "      --hover-bg-color: #E2EBFA;\n",
              "      --hover-fill-color: #174EA6;\n",
              "      --disabled-fill-color: #AAA;\n",
              "      --disabled-bg-color: #DDD;\n",
              "  }\n",
              "\n",
              "  [theme=dark] .colab-df-quickchart {\n",
              "      --bg-color: #3B4455;\n",
              "      --fill-color: #D2E3FC;\n",
              "      --hover-bg-color: #434B5C;\n",
              "      --hover-fill-color: #FFFFFF;\n",
              "      --disabled-bg-color: #3B4455;\n",
              "      --disabled-fill-color: #666;\n",
              "  }\n",
              "\n",
              "  .colab-df-quickchart {\n",
              "    background-color: var(--bg-color);\n",
              "    border: none;\n",
              "    border-radius: 50%;\n",
              "    cursor: pointer;\n",
              "    display: none;\n",
              "    fill: var(--fill-color);\n",
              "    height: 32px;\n",
              "    padding: 0;\n",
              "    width: 32px;\n",
              "  }\n",
              "\n",
              "  .colab-df-quickchart:hover {\n",
              "    background-color: var(--hover-bg-color);\n",
              "    box-shadow: 0 1px 2px rgba(60, 64, 67, 0.3), 0 1px 3px 1px rgba(60, 64, 67, 0.15);\n",
              "    fill: var(--button-hover-fill-color);\n",
              "  }\n",
              "\n",
              "  .colab-df-quickchart-complete:disabled,\n",
              "  .colab-df-quickchart-complete:disabled:hover {\n",
              "    background-color: var(--disabled-bg-color);\n",
              "    fill: var(--disabled-fill-color);\n",
              "    box-shadow: none;\n",
              "  }\n",
              "\n",
              "  .colab-df-spinner {\n",
              "    border: 2px solid var(--fill-color);\n",
              "    border-color: transparent;\n",
              "    border-bottom-color: var(--fill-color);\n",
              "    animation:\n",
              "      spin 1s steps(1) infinite;\n",
              "  }\n",
              "\n",
              "  @keyframes spin {\n",
              "    0% {\n",
              "      border-color: transparent;\n",
              "      border-bottom-color: var(--fill-color);\n",
              "      border-left-color: var(--fill-color);\n",
              "    }\n",
              "    20% {\n",
              "      border-color: transparent;\n",
              "      border-left-color: var(--fill-color);\n",
              "      border-top-color: var(--fill-color);\n",
              "    }\n",
              "    30% {\n",
              "      border-color: transparent;\n",
              "      border-left-color: var(--fill-color);\n",
              "      border-top-color: var(--fill-color);\n",
              "      border-right-color: var(--fill-color);\n",
              "    }\n",
              "    40% {\n",
              "      border-color: transparent;\n",
              "      border-right-color: var(--fill-color);\n",
              "      border-top-color: var(--fill-color);\n",
              "    }\n",
              "    60% {\n",
              "      border-color: transparent;\n",
              "      border-right-color: var(--fill-color);\n",
              "    }\n",
              "    80% {\n",
              "      border-color: transparent;\n",
              "      border-right-color: var(--fill-color);\n",
              "      border-bottom-color: var(--fill-color);\n",
              "    }\n",
              "    90% {\n",
              "      border-color: transparent;\n",
              "      border-bottom-color: var(--fill-color);\n",
              "    }\n",
              "  }\n",
              "</style>\n",
              "\n",
              "  <script>\n",
              "    async function quickchart(key) {\n",
              "      const quickchartButtonEl =\n",
              "        document.querySelector('#' + key + ' button');\n",
              "      quickchartButtonEl.disabled = true;  // To prevent multiple clicks.\n",
              "      quickchartButtonEl.classList.add('colab-df-spinner');\n",
              "      try {\n",
              "        const charts = await google.colab.kernel.invokeFunction(\n",
              "            'suggestCharts', [key], {});\n",
              "      } catch (error) {\n",
              "        console.error('Error during call to suggestCharts:', error);\n",
              "      }\n",
              "      quickchartButtonEl.classList.remove('colab-df-spinner');\n",
              "      quickchartButtonEl.classList.add('colab-df-quickchart-complete');\n",
              "    }\n",
              "    (() => {\n",
              "      let quickchartButtonEl =\n",
              "        document.querySelector('#df-8da5476b-4398-40b4-8679-9438a30641d7 button');\n",
              "      quickchartButtonEl.style.display =\n",
              "        google.colab.kernel.accessAllowed ? 'block' : 'none';\n",
              "    })();\n",
              "  </script>\n",
              "</div>\n",
              "    </div>\n",
              "  </div>\n"
            ],
            "application/vnd.google.colaboratory.intrinsic+json": {
              "type": "dataframe"
            }
          },
          "metadata": {},
          "execution_count": 4
        }
      ],
      "source": [
        "#Load and Display Combined Data\n",
        "data = pd.read_csv(\"combined_data.csv\")\n",
        "data.T.head(10)"
      ],
      "metadata": {
        "ExecuteTime": {
          "end_time": "2024-04-16T12:22:43.333019400Z",
          "start_time": "2024-04-16T12:22:43.138069100Z"
        },
        "colab": {
          "base_uri": "https://localhost:8080/",
          "height": 311
        },
        "id": "61e0e0df32ac3971",
        "outputId": "91191c94-a062-4b9b-899d-6e2df0142865"
      },
      "id": "61e0e0df32ac3971"
    },
    {
      "cell_type": "code",
      "execution_count": null,
      "outputs": [],
      "source": [
        "# Drop the date column and keep only the time from the 'Date' column\n",
        "combined_df['Time'] = pd.to_datetime(combined_df['Date']).dt.time\n",
        "# Drop the 'ID' and 'Date' columns from the DataFrame\n",
        "combined_df.drop(['ID', 'Date'], axis=1, inplace=True)\n",
        "# Remove any rows with missing values\n",
        "combined_df.dropna(inplace=True)\n",
        "# Convert the time to seconds\n",
        "combined_df['Time'] = combined_df['Time'].apply(lambda x: x.hour * 3600 + x.minute * 60 + x.second)\n",
        "# Save the cleaned DataFrame to a new CSV file\n",
        "combined_df.to_csv(\"cleaned_data.csv\", index=False)"
      ],
      "metadata": {
        "ExecuteTime": {
          "end_time": "2024-04-16T12:23:02.838863300Z",
          "start_time": "2024-04-16T12:23:02.594619100Z"
        },
        "id": "44de10425afd95e2"
      },
      "id": "44de10425afd95e2"
    },
    {
      "cell_type": "code",
      "execution_count": null,
      "outputs": [
        {
          "output_type": "execute_result",
          "data": {
            "text/plain": [
              "       0      1      2      3      4      5      6      7      8      9   ...  \\\n",
              "BPM  3.59  12.48  19.71  76.82  24.97  90.77  83.22  90.77  41.01  78.84  ...   \n",
              "\n",
              "         90     91     92     93     94     95     96     97     98     99  \n",
              "BPM  142.52  22.19  27.24  55.45  46.08  45.35  99.83  18.38  30.26  29.37  \n",
              "\n",
              "[1 rows x 100 columns]"
            ],
            "text/html": [
              "\n",
              "  <div id=\"df-e4548111-87d1-4aab-86b6-ad673cc5313c\" class=\"colab-df-container\">\n",
              "    <div>\n",
              "<style scoped>\n",
              "    .dataframe tbody tr th:only-of-type {\n",
              "        vertical-align: middle;\n",
              "    }\n",
              "\n",
              "    .dataframe tbody tr th {\n",
              "        vertical-align: top;\n",
              "    }\n",
              "\n",
              "    .dataframe thead th {\n",
              "        text-align: right;\n",
              "    }\n",
              "</style>\n",
              "<table border=\"1\" class=\"dataframe\">\n",
              "  <thead>\n",
              "    <tr style=\"text-align: right;\">\n",
              "      <th></th>\n",
              "      <th>0</th>\n",
              "      <th>1</th>\n",
              "      <th>2</th>\n",
              "      <th>3</th>\n",
              "      <th>4</th>\n",
              "      <th>5</th>\n",
              "      <th>6</th>\n",
              "      <th>7</th>\n",
              "      <th>8</th>\n",
              "      <th>9</th>\n",
              "      <th>...</th>\n",
              "      <th>90</th>\n",
              "      <th>91</th>\n",
              "      <th>92</th>\n",
              "      <th>93</th>\n",
              "      <th>94</th>\n",
              "      <th>95</th>\n",
              "      <th>96</th>\n",
              "      <th>97</th>\n",
              "      <th>98</th>\n",
              "      <th>99</th>\n",
              "    </tr>\n",
              "  </thead>\n",
              "  <tbody>\n",
              "    <tr>\n",
              "      <th>BPM</th>\n",
              "      <td>3.59</td>\n",
              "      <td>12.48</td>\n",
              "      <td>19.71</td>\n",
              "      <td>76.82</td>\n",
              "      <td>24.97</td>\n",
              "      <td>90.77</td>\n",
              "      <td>83.22</td>\n",
              "      <td>90.77</td>\n",
              "      <td>41.01</td>\n",
              "      <td>78.84</td>\n",
              "      <td>...</td>\n",
              "      <td>142.52</td>\n",
              "      <td>22.19</td>\n",
              "      <td>27.24</td>\n",
              "      <td>55.45</td>\n",
              "      <td>46.08</td>\n",
              "      <td>45.35</td>\n",
              "      <td>99.83</td>\n",
              "      <td>18.38</td>\n",
              "      <td>30.26</td>\n",
              "      <td>29.37</td>\n",
              "    </tr>\n",
              "  </tbody>\n",
              "</table>\n",
              "<p>1 rows × 100 columns</p>\n",
              "</div>\n",
              "    <div class=\"colab-df-buttons\">\n",
              "\n",
              "  <div class=\"colab-df-container\">\n",
              "    <button class=\"colab-df-convert\" onclick=\"convertToInteractive('df-e4548111-87d1-4aab-86b6-ad673cc5313c')\"\n",
              "            title=\"Convert this dataframe to an interactive table.\"\n",
              "            style=\"display:none;\">\n",
              "\n",
              "  <svg xmlns=\"http://www.w3.org/2000/svg\" height=\"24px\" viewBox=\"0 -960 960 960\">\n",
              "    <path d=\"M120-120v-720h720v720H120Zm60-500h600v-160H180v160Zm220 220h160v-160H400v160Zm0 220h160v-160H400v160ZM180-400h160v-160H180v160Zm440 0h160v-160H620v160ZM180-180h160v-160H180v160Zm440 0h160v-160H620v160Z\"/>\n",
              "  </svg>\n",
              "    </button>\n",
              "\n",
              "  <style>\n",
              "    .colab-df-container {\n",
              "      display:flex;\n",
              "      gap: 12px;\n",
              "    }\n",
              "\n",
              "    .colab-df-convert {\n",
              "      background-color: #E8F0FE;\n",
              "      border: none;\n",
              "      border-radius: 50%;\n",
              "      cursor: pointer;\n",
              "      display: none;\n",
              "      fill: #1967D2;\n",
              "      height: 32px;\n",
              "      padding: 0 0 0 0;\n",
              "      width: 32px;\n",
              "    }\n",
              "\n",
              "    .colab-df-convert:hover {\n",
              "      background-color: #E2EBFA;\n",
              "      box-shadow: 0px 1px 2px rgba(60, 64, 67, 0.3), 0px 1px 3px 1px rgba(60, 64, 67, 0.15);\n",
              "      fill: #174EA6;\n",
              "    }\n",
              "\n",
              "    .colab-df-buttons div {\n",
              "      margin-bottom: 4px;\n",
              "    }\n",
              "\n",
              "    [theme=dark] .colab-df-convert {\n",
              "      background-color: #3B4455;\n",
              "      fill: #D2E3FC;\n",
              "    }\n",
              "\n",
              "    [theme=dark] .colab-df-convert:hover {\n",
              "      background-color: #434B5C;\n",
              "      box-shadow: 0px 1px 3px 1px rgba(0, 0, 0, 0.15);\n",
              "      filter: drop-shadow(0px 1px 2px rgba(0, 0, 0, 0.3));\n",
              "      fill: #FFFFFF;\n",
              "    }\n",
              "  </style>\n",
              "\n",
              "    <script>\n",
              "      const buttonEl =\n",
              "        document.querySelector('#df-e4548111-87d1-4aab-86b6-ad673cc5313c button.colab-df-convert');\n",
              "      buttonEl.style.display =\n",
              "        google.colab.kernel.accessAllowed ? 'block' : 'none';\n",
              "\n",
              "      async function convertToInteractive(key) {\n",
              "        const element = document.querySelector('#df-e4548111-87d1-4aab-86b6-ad673cc5313c');\n",
              "        const dataTable =\n",
              "          await google.colab.kernel.invokeFunction('convertToInteractive',\n",
              "                                                    [key], {});\n",
              "        if (!dataTable) return;\n",
              "\n",
              "        const docLinkHtml = 'Like what you see? Visit the ' +\n",
              "          '<a target=\"_blank\" href=https://colab.research.google.com/notebooks/data_table.ipynb>data table notebook</a>'\n",
              "          + ' to learn more about interactive tables.';\n",
              "        element.innerHTML = '';\n",
              "        dataTable['output_type'] = 'display_data';\n",
              "        await google.colab.output.renderOutput(dataTable, element);\n",
              "        const docLink = document.createElement('div');\n",
              "        docLink.innerHTML = docLinkHtml;\n",
              "        element.appendChild(docLink);\n",
              "      }\n",
              "    </script>\n",
              "  </div>\n",
              "\n",
              "    </div>\n",
              "  </div>\n"
            ],
            "application/vnd.google.colaboratory.intrinsic+json": {
              "type": "dataframe"
            }
          },
          "metadata": {},
          "execution_count": 6
        }
      ],
      "source": [
        "# Load the cleaned csv then display it\n",
        "data = pd.read_csv(\"cleaned_data.csv\")\n",
        "data[['BPM']].head(100).T"
      ],
      "metadata": {
        "ExecuteTime": {
          "end_time": "2024-04-16T12:24:17.601663400Z",
          "start_time": "2024-04-16T12:24:17.556094500Z"
        },
        "colab": {
          "base_uri": "https://localhost:8080/",
          "height": 130
        },
        "id": "e02b25db06725972",
        "outputId": "1a2661a5-2115-43a4-a5b4-c993cb3ec71e"
      },
      "id": "e02b25db06725972"
    },
    {
      "cell_type": "code",
      "execution_count": null,
      "outputs": [],
      "source": [
        "# Set the ranges BPM >= 53 & <= 90.9 and remove the rest\n",
        "bpm_ranges = [(50, 63, 'Asleep'), (61, 90.9, 'Awake')]\n",
        "combined_df = combined_df[(combined_df['BPM'] >= 50) & (combined_df['BPM'] <= 90.9)]\n",
        "# Categorize 'State' based on BPM range\n",
        "combined_df['State'] = pd.cut(combined_df['BPM'], bins=[r[0] for r in bpm_ranges] + [bpm_ranges[-1][1]], right=False, labels=[r[2] for r in bpm_ranges])\n",
        "# Save to a new CSV\n",
        "combined_df.to_csv(\"sleep_data.csv\", index=False)"
      ],
      "metadata": {
        "ExecuteTime": {
          "end_time": "2024-04-16T12:24:18.878392900Z",
          "start_time": "2024-04-16T12:24:18.763669300Z"
        },
        "id": "7900eaff4b2ad447"
      },
      "id": "7900eaff4b2ad447"
    },
    {
      "cell_type": "code",
      "execution_count": null,
      "outputs": [],
      "source": [
        "# Handles instances where there's continuous Awake and encounters a three instances of Asleep (Vice Versa)\n",
        "def consolidate_states(states):\n",
        "    consolidated_states = []\n",
        "    current_state = None\n",
        "    consecutive_count = 0\n",
        "zW\n",
        "    for state in states:\n",
        "        if state == current_state:\n",
        "            consecutive_count += 3\n",
        "        else:\n",
        "            if current_state is not None:\n",
        "                if consecutive_count > 3:\n",
        "                    consolidated_states.extend([current_state] * consecutive_count)\n",
        "                else:\n",
        "                    consolidated_states.append(current_state)\n",
        "\n",
        "            current_state = state\n",
        "            consecutive_count = 3\n",
        "\n",
        "    if current_state is not None:\n",
        "        if consecutive_count > 3:\n",
        "            consolidated_states.extend([current_state] * consecutive_count)\n",
        "        else:\n",
        "            consolidated_states.append(current_state)\n",
        "\n",
        "    for i in range(3, len(consolidated_states) - 3):\n",
        "        if consolidated_states[i] == \"Asleep\" and consolidated_states[i-3] == consolidated_states[i+1] == \"Awake\":\n",
        "            consolidated_states[i] = \"Awake\"\n",
        "        elif consolidated_states[i] == \"Awake\" and consolidated_states[i-3] == consolidated_states[i+1] == \"Asleep\":\n",
        "            consolidated_states[i] = \"Asleep\"\n",
        "\n",
        "    return consolidated_states"
      ],
      "metadata": {
        "ExecuteTime": {
          "end_time": "2024-04-16T13:07:23.597017700Z",
          "start_time": "2024-04-16T13:07:23.590527Z"
        },
        "id": "19186fe856a3f24f"
      },
      "id": "19186fe856a3f24f"
    },
    {
      "cell_type": "code",
      "execution_count": null,
      "outputs": [
        {
          "output_type": "execute_result",
          "data": {
            "text/plain": [
              "          0      1      2      3      4      5      6      7      8      9   \\\n",
              "BPM    76.82  90.77  83.22  90.77  78.84  88.11  83.22  80.97  78.84  83.22   \n",
              "State  Awake  Awake  Awake  Awake  Awake  Awake  Awake  Awake  Awake  Awake   \n",
              "\n",
              "       ...     90     91     92     93      94      95     96     97     98  \\\n",
              "BPM    ...   68.1  69.69  65.15  90.77   52.54   53.52  88.11  85.59  80.97   \n",
              "State  ...  Awake  Awake  Awake  Awake  Asleep  Asleep  Awake  Awake  Awake   \n",
              "\n",
              "          99  \n",
              "BPM    78.74  \n",
              "State  Awake  \n",
              "\n",
              "[2 rows x 100 columns]"
            ],
            "text/html": [
              "\n",
              "  <div id=\"df-756467fa-202a-439a-af98-f0b897be938e\" class=\"colab-df-container\">\n",
              "    <div>\n",
              "<style scoped>\n",
              "    .dataframe tbody tr th:only-of-type {\n",
              "        vertical-align: middle;\n",
              "    }\n",
              "\n",
              "    .dataframe tbody tr th {\n",
              "        vertical-align: top;\n",
              "    }\n",
              "\n",
              "    .dataframe thead th {\n",
              "        text-align: right;\n",
              "    }\n",
              "</style>\n",
              "<table border=\"1\" class=\"dataframe\">\n",
              "  <thead>\n",
              "    <tr style=\"text-align: right;\">\n",
              "      <th></th>\n",
              "      <th>0</th>\n",
              "      <th>1</th>\n",
              "      <th>2</th>\n",
              "      <th>3</th>\n",
              "      <th>4</th>\n",
              "      <th>5</th>\n",
              "      <th>6</th>\n",
              "      <th>7</th>\n",
              "      <th>8</th>\n",
              "      <th>9</th>\n",
              "      <th>...</th>\n",
              "      <th>90</th>\n",
              "      <th>91</th>\n",
              "      <th>92</th>\n",
              "      <th>93</th>\n",
              "      <th>94</th>\n",
              "      <th>95</th>\n",
              "      <th>96</th>\n",
              "      <th>97</th>\n",
              "      <th>98</th>\n",
              "      <th>99</th>\n",
              "    </tr>\n",
              "  </thead>\n",
              "  <tbody>\n",
              "    <tr>\n",
              "      <th>BPM</th>\n",
              "      <td>76.82</td>\n",
              "      <td>90.77</td>\n",
              "      <td>83.22</td>\n",
              "      <td>90.77</td>\n",
              "      <td>78.84</td>\n",
              "      <td>88.11</td>\n",
              "      <td>83.22</td>\n",
              "      <td>80.97</td>\n",
              "      <td>78.84</td>\n",
              "      <td>83.22</td>\n",
              "      <td>...</td>\n",
              "      <td>68.1</td>\n",
              "      <td>69.69</td>\n",
              "      <td>65.15</td>\n",
              "      <td>90.77</td>\n",
              "      <td>52.54</td>\n",
              "      <td>53.52</td>\n",
              "      <td>88.11</td>\n",
              "      <td>85.59</td>\n",
              "      <td>80.97</td>\n",
              "      <td>78.74</td>\n",
              "    </tr>\n",
              "    <tr>\n",
              "      <th>State</th>\n",
              "      <td>Awake</td>\n",
              "      <td>Awake</td>\n",
              "      <td>Awake</td>\n",
              "      <td>Awake</td>\n",
              "      <td>Awake</td>\n",
              "      <td>Awake</td>\n",
              "      <td>Awake</td>\n",
              "      <td>Awake</td>\n",
              "      <td>Awake</td>\n",
              "      <td>Awake</td>\n",
              "      <td>...</td>\n",
              "      <td>Awake</td>\n",
              "      <td>Awake</td>\n",
              "      <td>Awake</td>\n",
              "      <td>Awake</td>\n",
              "      <td>Asleep</td>\n",
              "      <td>Asleep</td>\n",
              "      <td>Awake</td>\n",
              "      <td>Awake</td>\n",
              "      <td>Awake</td>\n",
              "      <td>Awake</td>\n",
              "    </tr>\n",
              "  </tbody>\n",
              "</table>\n",
              "<p>2 rows × 100 columns</p>\n",
              "</div>\n",
              "    <div class=\"colab-df-buttons\">\n",
              "\n",
              "  <div class=\"colab-df-container\">\n",
              "    <button class=\"colab-df-convert\" onclick=\"convertToInteractive('df-756467fa-202a-439a-af98-f0b897be938e')\"\n",
              "            title=\"Convert this dataframe to an interactive table.\"\n",
              "            style=\"display:none;\">\n",
              "\n",
              "  <svg xmlns=\"http://www.w3.org/2000/svg\" height=\"24px\" viewBox=\"0 -960 960 960\">\n",
              "    <path d=\"M120-120v-720h720v720H120Zm60-500h600v-160H180v160Zm220 220h160v-160H400v160Zm0 220h160v-160H400v160ZM180-400h160v-160H180v160Zm440 0h160v-160H620v160ZM180-180h160v-160H180v160Zm440 0h160v-160H620v160Z\"/>\n",
              "  </svg>\n",
              "    </button>\n",
              "\n",
              "  <style>\n",
              "    .colab-df-container {\n",
              "      display:flex;\n",
              "      gap: 12px;\n",
              "    }\n",
              "\n",
              "    .colab-df-convert {\n",
              "      background-color: #E8F0FE;\n",
              "      border: none;\n",
              "      border-radius: 50%;\n",
              "      cursor: pointer;\n",
              "      display: none;\n",
              "      fill: #1967D2;\n",
              "      height: 32px;\n",
              "      padding: 0 0 0 0;\n",
              "      width: 32px;\n",
              "    }\n",
              "\n",
              "    .colab-df-convert:hover {\n",
              "      background-color: #E2EBFA;\n",
              "      box-shadow: 0px 1px 2px rgba(60, 64, 67, 0.3), 0px 1px 3px 1px rgba(60, 64, 67, 0.15);\n",
              "      fill: #174EA6;\n",
              "    }\n",
              "\n",
              "    .colab-df-buttons div {\n",
              "      margin-bottom: 4px;\n",
              "    }\n",
              "\n",
              "    [theme=dark] .colab-df-convert {\n",
              "      background-color: #3B4455;\n",
              "      fill: #D2E3FC;\n",
              "    }\n",
              "\n",
              "    [theme=dark] .colab-df-convert:hover {\n",
              "      background-color: #434B5C;\n",
              "      box-shadow: 0px 1px 3px 1px rgba(0, 0, 0, 0.15);\n",
              "      filter: drop-shadow(0px 1px 2px rgba(0, 0, 0, 0.3));\n",
              "      fill: #FFFFFF;\n",
              "    }\n",
              "  </style>\n",
              "\n",
              "    <script>\n",
              "      const buttonEl =\n",
              "        document.querySelector('#df-756467fa-202a-439a-af98-f0b897be938e button.colab-df-convert');\n",
              "      buttonEl.style.display =\n",
              "        google.colab.kernel.accessAllowed ? 'block' : 'none';\n",
              "\n",
              "      async function convertToInteractive(key) {\n",
              "        const element = document.querySelector('#df-756467fa-202a-439a-af98-f0b897be938e');\n",
              "        const dataTable =\n",
              "          await google.colab.kernel.invokeFunction('convertToInteractive',\n",
              "                                                    [key], {});\n",
              "        if (!dataTable) return;\n",
              "\n",
              "        const docLinkHtml = 'Like what you see? Visit the ' +\n",
              "          '<a target=\"_blank\" href=https://colab.research.google.com/notebooks/data_table.ipynb>data table notebook</a>'\n",
              "          + ' to learn more about interactive tables.';\n",
              "        element.innerHTML = '';\n",
              "        dataTable['output_type'] = 'display_data';\n",
              "        await google.colab.output.renderOutput(dataTable, element);\n",
              "        const docLink = document.createElement('div');\n",
              "        docLink.innerHTML = docLinkHtml;\n",
              "        element.appendChild(docLink);\n",
              "      }\n",
              "    </script>\n",
              "  </div>\n",
              "\n",
              "\n",
              "<div id=\"df-83e2f890-37f8-4fcb-a1d6-fe15d5011d25\">\n",
              "  <button class=\"colab-df-quickchart\" onclick=\"quickchart('df-83e2f890-37f8-4fcb-a1d6-fe15d5011d25')\"\n",
              "            title=\"Suggest charts\"\n",
              "            style=\"display:none;\">\n",
              "\n",
              "<svg xmlns=\"http://www.w3.org/2000/svg\" height=\"24px\"viewBox=\"0 0 24 24\"\n",
              "     width=\"24px\">\n",
              "    <g>\n",
              "        <path d=\"M19 3H5c-1.1 0-2 .9-2 2v14c0 1.1.9 2 2 2h14c1.1 0 2-.9 2-2V5c0-1.1-.9-2-2-2zM9 17H7v-7h2v7zm4 0h-2V7h2v10zm4 0h-2v-4h2v4z\"/>\n",
              "    </g>\n",
              "</svg>\n",
              "  </button>\n",
              "\n",
              "<style>\n",
              "  .colab-df-quickchart {\n",
              "      --bg-color: #E8F0FE;\n",
              "      --fill-color: #1967D2;\n",
              "      --hover-bg-color: #E2EBFA;\n",
              "      --hover-fill-color: #174EA6;\n",
              "      --disabled-fill-color: #AAA;\n",
              "      --disabled-bg-color: #DDD;\n",
              "  }\n",
              "\n",
              "  [theme=dark] .colab-df-quickchart {\n",
              "      --bg-color: #3B4455;\n",
              "      --fill-color: #D2E3FC;\n",
              "      --hover-bg-color: #434B5C;\n",
              "      --hover-fill-color: #FFFFFF;\n",
              "      --disabled-bg-color: #3B4455;\n",
              "      --disabled-fill-color: #666;\n",
              "  }\n",
              "\n",
              "  .colab-df-quickchart {\n",
              "    background-color: var(--bg-color);\n",
              "    border: none;\n",
              "    border-radius: 50%;\n",
              "    cursor: pointer;\n",
              "    display: none;\n",
              "    fill: var(--fill-color);\n",
              "    height: 32px;\n",
              "    padding: 0;\n",
              "    width: 32px;\n",
              "  }\n",
              "\n",
              "  .colab-df-quickchart:hover {\n",
              "    background-color: var(--hover-bg-color);\n",
              "    box-shadow: 0 1px 2px rgba(60, 64, 67, 0.3), 0 1px 3px 1px rgba(60, 64, 67, 0.15);\n",
              "    fill: var(--button-hover-fill-color);\n",
              "  }\n",
              "\n",
              "  .colab-df-quickchart-complete:disabled,\n",
              "  .colab-df-quickchart-complete:disabled:hover {\n",
              "    background-color: var(--disabled-bg-color);\n",
              "    fill: var(--disabled-fill-color);\n",
              "    box-shadow: none;\n",
              "  }\n",
              "\n",
              "  .colab-df-spinner {\n",
              "    border: 2px solid var(--fill-color);\n",
              "    border-color: transparent;\n",
              "    border-bottom-color: var(--fill-color);\n",
              "    animation:\n",
              "      spin 1s steps(1) infinite;\n",
              "  }\n",
              "\n",
              "  @keyframes spin {\n",
              "    0% {\n",
              "      border-color: transparent;\n",
              "      border-bottom-color: var(--fill-color);\n",
              "      border-left-color: var(--fill-color);\n",
              "    }\n",
              "    20% {\n",
              "      border-color: transparent;\n",
              "      border-left-color: var(--fill-color);\n",
              "      border-top-color: var(--fill-color);\n",
              "    }\n",
              "    30% {\n",
              "      border-color: transparent;\n",
              "      border-left-color: var(--fill-color);\n",
              "      border-top-color: var(--fill-color);\n",
              "      border-right-color: var(--fill-color);\n",
              "    }\n",
              "    40% {\n",
              "      border-color: transparent;\n",
              "      border-right-color: var(--fill-color);\n",
              "      border-top-color: var(--fill-color);\n",
              "    }\n",
              "    60% {\n",
              "      border-color: transparent;\n",
              "      border-right-color: var(--fill-color);\n",
              "    }\n",
              "    80% {\n",
              "      border-color: transparent;\n",
              "      border-right-color: var(--fill-color);\n",
              "      border-bottom-color: var(--fill-color);\n",
              "    }\n",
              "    90% {\n",
              "      border-color: transparent;\n",
              "      border-bottom-color: var(--fill-color);\n",
              "    }\n",
              "  }\n",
              "</style>\n",
              "\n",
              "  <script>\n",
              "    async function quickchart(key) {\n",
              "      const quickchartButtonEl =\n",
              "        document.querySelector('#' + key + ' button');\n",
              "      quickchartButtonEl.disabled = true;  // To prevent multiple clicks.\n",
              "      quickchartButtonEl.classList.add('colab-df-spinner');\n",
              "      try {\n",
              "        const charts = await google.colab.kernel.invokeFunction(\n",
              "            'suggestCharts', [key], {});\n",
              "      } catch (error) {\n",
              "        console.error('Error during call to suggestCharts:', error);\n",
              "      }\n",
              "      quickchartButtonEl.classList.remove('colab-df-spinner');\n",
              "      quickchartButtonEl.classList.add('colab-df-quickchart-complete');\n",
              "    }\n",
              "    (() => {\n",
              "      let quickchartButtonEl =\n",
              "        document.querySelector('#df-83e2f890-37f8-4fcb-a1d6-fe15d5011d25 button');\n",
              "      quickchartButtonEl.style.display =\n",
              "        google.colab.kernel.accessAllowed ? 'block' : 'none';\n",
              "    })();\n",
              "  </script>\n",
              "</div>\n",
              "    </div>\n",
              "  </div>\n"
            ],
            "application/vnd.google.colaboratory.intrinsic+json": {
              "type": "dataframe"
            }
          },
          "metadata": {},
          "execution_count": 9
        }
      ],
      "source": [
        "# Load the Sleep Data CSV and Display\n",
        "data = pd.read_csv(\"sleep_data.csv\")\n",
        "data[['BPM', 'State']].head(100).T"
      ],
      "metadata": {
        "ExecuteTime": {
          "end_time": "2024-04-16T13:07:25.247866100Z",
          "start_time": "2024-04-16T13:07:25.206159300Z"
        },
        "colab": {
          "base_uri": "https://localhost:8080/",
          "height": 161
        },
        "id": "4407fa46dd03014e",
        "outputId": "3b0059f4-84f4-4a64-a4df-539a04e2cd88"
      },
      "id": "4407fa46dd03014e"
    },
    {
      "cell_type": "code",
      "execution_count": null,
      "outputs": [
        {
          "output_type": "execute_result",
          "data": {
            "text/plain": [
              "                BPM        Person          Time\n",
              "count  91459.000000  91459.000000  91459.000000\n",
              "mean      59.076990      2.017166  27929.021026\n",
              "std        8.604493      0.397941  14579.430495\n",
              "min       50.000000      1.000000    400.000000\n",
              "25%       53.380000      2.000000  17285.000000\n",
              "50%       56.390000      2.000000  25817.000000\n",
              "75%       59.760000      2.000000  34168.000000\n",
              "max       90.770000      3.000000  86270.000000"
            ],
            "text/html": [
              "\n",
              "  <div id=\"df-1b810d6a-dc07-4451-b582-b7071bb06cf9\" class=\"colab-df-container\">\n",
              "    <div>\n",
              "<style scoped>\n",
              "    .dataframe tbody tr th:only-of-type {\n",
              "        vertical-align: middle;\n",
              "    }\n",
              "\n",
              "    .dataframe tbody tr th {\n",
              "        vertical-align: top;\n",
              "    }\n",
              "\n",
              "    .dataframe thead th {\n",
              "        text-align: right;\n",
              "    }\n",
              "</style>\n",
              "<table border=\"1\" class=\"dataframe\">\n",
              "  <thead>\n",
              "    <tr style=\"text-align: right;\">\n",
              "      <th></th>\n",
              "      <th>BPM</th>\n",
              "      <th>Person</th>\n",
              "      <th>Time</th>\n",
              "    </tr>\n",
              "  </thead>\n",
              "  <tbody>\n",
              "    <tr>\n",
              "      <th>count</th>\n",
              "      <td>91459.000000</td>\n",
              "      <td>91459.000000</td>\n",
              "      <td>91459.000000</td>\n",
              "    </tr>\n",
              "    <tr>\n",
              "      <th>mean</th>\n",
              "      <td>59.076990</td>\n",
              "      <td>2.017166</td>\n",
              "      <td>27929.021026</td>\n",
              "    </tr>\n",
              "    <tr>\n",
              "      <th>std</th>\n",
              "      <td>8.604493</td>\n",
              "      <td>0.397941</td>\n",
              "      <td>14579.430495</td>\n",
              "    </tr>\n",
              "    <tr>\n",
              "      <th>min</th>\n",
              "      <td>50.000000</td>\n",
              "      <td>1.000000</td>\n",
              "      <td>400.000000</td>\n",
              "    </tr>\n",
              "    <tr>\n",
              "      <th>25%</th>\n",
              "      <td>53.380000</td>\n",
              "      <td>2.000000</td>\n",
              "      <td>17285.000000</td>\n",
              "    </tr>\n",
              "    <tr>\n",
              "      <th>50%</th>\n",
              "      <td>56.390000</td>\n",
              "      <td>2.000000</td>\n",
              "      <td>25817.000000</td>\n",
              "    </tr>\n",
              "    <tr>\n",
              "      <th>75%</th>\n",
              "      <td>59.760000</td>\n",
              "      <td>2.000000</td>\n",
              "      <td>34168.000000</td>\n",
              "    </tr>\n",
              "    <tr>\n",
              "      <th>max</th>\n",
              "      <td>90.770000</td>\n",
              "      <td>3.000000</td>\n",
              "      <td>86270.000000</td>\n",
              "    </tr>\n",
              "  </tbody>\n",
              "</table>\n",
              "</div>\n",
              "    <div class=\"colab-df-buttons\">\n",
              "\n",
              "  <div class=\"colab-df-container\">\n",
              "    <button class=\"colab-df-convert\" onclick=\"convertToInteractive('df-1b810d6a-dc07-4451-b582-b7071bb06cf9')\"\n",
              "            title=\"Convert this dataframe to an interactive table.\"\n",
              "            style=\"display:none;\">\n",
              "\n",
              "  <svg xmlns=\"http://www.w3.org/2000/svg\" height=\"24px\" viewBox=\"0 -960 960 960\">\n",
              "    <path d=\"M120-120v-720h720v720H120Zm60-500h600v-160H180v160Zm220 220h160v-160H400v160Zm0 220h160v-160H400v160ZM180-400h160v-160H180v160Zm440 0h160v-160H620v160ZM180-180h160v-160H180v160Zm440 0h160v-160H620v160Z\"/>\n",
              "  </svg>\n",
              "    </button>\n",
              "\n",
              "  <style>\n",
              "    .colab-df-container {\n",
              "      display:flex;\n",
              "      gap: 12px;\n",
              "    }\n",
              "\n",
              "    .colab-df-convert {\n",
              "      background-color: #E8F0FE;\n",
              "      border: none;\n",
              "      border-radius: 50%;\n",
              "      cursor: pointer;\n",
              "      display: none;\n",
              "      fill: #1967D2;\n",
              "      height: 32px;\n",
              "      padding: 0 0 0 0;\n",
              "      width: 32px;\n",
              "    }\n",
              "\n",
              "    .colab-df-convert:hover {\n",
              "      background-color: #E2EBFA;\n",
              "      box-shadow: 0px 1px 2px rgba(60, 64, 67, 0.3), 0px 1px 3px 1px rgba(60, 64, 67, 0.15);\n",
              "      fill: #174EA6;\n",
              "    }\n",
              "\n",
              "    .colab-df-buttons div {\n",
              "      margin-bottom: 4px;\n",
              "    }\n",
              "\n",
              "    [theme=dark] .colab-df-convert {\n",
              "      background-color: #3B4455;\n",
              "      fill: #D2E3FC;\n",
              "    }\n",
              "\n",
              "    [theme=dark] .colab-df-convert:hover {\n",
              "      background-color: #434B5C;\n",
              "      box-shadow: 0px 1px 3px 1px rgba(0, 0, 0, 0.15);\n",
              "      filter: drop-shadow(0px 1px 2px rgba(0, 0, 0, 0.3));\n",
              "      fill: #FFFFFF;\n",
              "    }\n",
              "  </style>\n",
              "\n",
              "    <script>\n",
              "      const buttonEl =\n",
              "        document.querySelector('#df-1b810d6a-dc07-4451-b582-b7071bb06cf9 button.colab-df-convert');\n",
              "      buttonEl.style.display =\n",
              "        google.colab.kernel.accessAllowed ? 'block' : 'none';\n",
              "\n",
              "      async function convertToInteractive(key) {\n",
              "        const element = document.querySelector('#df-1b810d6a-dc07-4451-b582-b7071bb06cf9');\n",
              "        const dataTable =\n",
              "          await google.colab.kernel.invokeFunction('convertToInteractive',\n",
              "                                                    [key], {});\n",
              "        if (!dataTable) return;\n",
              "\n",
              "        const docLinkHtml = 'Like what you see? Visit the ' +\n",
              "          '<a target=\"_blank\" href=https://colab.research.google.com/notebooks/data_table.ipynb>data table notebook</a>'\n",
              "          + ' to learn more about interactive tables.';\n",
              "        element.innerHTML = '';\n",
              "        dataTable['output_type'] = 'display_data';\n",
              "        await google.colab.output.renderOutput(dataTable, element);\n",
              "        const docLink = document.createElement('div');\n",
              "        docLink.innerHTML = docLinkHtml;\n",
              "        element.appendChild(docLink);\n",
              "      }\n",
              "    </script>\n",
              "  </div>\n",
              "\n",
              "\n",
              "<div id=\"df-37ca819e-5696-4f27-bbe3-3c7209f74cea\">\n",
              "  <button class=\"colab-df-quickchart\" onclick=\"quickchart('df-37ca819e-5696-4f27-bbe3-3c7209f74cea')\"\n",
              "            title=\"Suggest charts\"\n",
              "            style=\"display:none;\">\n",
              "\n",
              "<svg xmlns=\"http://www.w3.org/2000/svg\" height=\"24px\"viewBox=\"0 0 24 24\"\n",
              "     width=\"24px\">\n",
              "    <g>\n",
              "        <path d=\"M19 3H5c-1.1 0-2 .9-2 2v14c0 1.1.9 2 2 2h14c1.1 0 2-.9 2-2V5c0-1.1-.9-2-2-2zM9 17H7v-7h2v7zm4 0h-2V7h2v10zm4 0h-2v-4h2v4z\"/>\n",
              "    </g>\n",
              "</svg>\n",
              "  </button>\n",
              "\n",
              "<style>\n",
              "  .colab-df-quickchart {\n",
              "      --bg-color: #E8F0FE;\n",
              "      --fill-color: #1967D2;\n",
              "      --hover-bg-color: #E2EBFA;\n",
              "      --hover-fill-color: #174EA6;\n",
              "      --disabled-fill-color: #AAA;\n",
              "      --disabled-bg-color: #DDD;\n",
              "  }\n",
              "\n",
              "  [theme=dark] .colab-df-quickchart {\n",
              "      --bg-color: #3B4455;\n",
              "      --fill-color: #D2E3FC;\n",
              "      --hover-bg-color: #434B5C;\n",
              "      --hover-fill-color: #FFFFFF;\n",
              "      --disabled-bg-color: #3B4455;\n",
              "      --disabled-fill-color: #666;\n",
              "  }\n",
              "\n",
              "  .colab-df-quickchart {\n",
              "    background-color: var(--bg-color);\n",
              "    border: none;\n",
              "    border-radius: 50%;\n",
              "    cursor: pointer;\n",
              "    display: none;\n",
              "    fill: var(--fill-color);\n",
              "    height: 32px;\n",
              "    padding: 0;\n",
              "    width: 32px;\n",
              "  }\n",
              "\n",
              "  .colab-df-quickchart:hover {\n",
              "    background-color: var(--hover-bg-color);\n",
              "    box-shadow: 0 1px 2px rgba(60, 64, 67, 0.3), 0 1px 3px 1px rgba(60, 64, 67, 0.15);\n",
              "    fill: var(--button-hover-fill-color);\n",
              "  }\n",
              "\n",
              "  .colab-df-quickchart-complete:disabled,\n",
              "  .colab-df-quickchart-complete:disabled:hover {\n",
              "    background-color: var(--disabled-bg-color);\n",
              "    fill: var(--disabled-fill-color);\n",
              "    box-shadow: none;\n",
              "  }\n",
              "\n",
              "  .colab-df-spinner {\n",
              "    border: 2px solid var(--fill-color);\n",
              "    border-color: transparent;\n",
              "    border-bottom-color: var(--fill-color);\n",
              "    animation:\n",
              "      spin 1s steps(1) infinite;\n",
              "  }\n",
              "\n",
              "  @keyframes spin {\n",
              "    0% {\n",
              "      border-color: transparent;\n",
              "      border-bottom-color: var(--fill-color);\n",
              "      border-left-color: var(--fill-color);\n",
              "    }\n",
              "    20% {\n",
              "      border-color: transparent;\n",
              "      border-left-color: var(--fill-color);\n",
              "      border-top-color: var(--fill-color);\n",
              "    }\n",
              "    30% {\n",
              "      border-color: transparent;\n",
              "      border-left-color: var(--fill-color);\n",
              "      border-top-color: var(--fill-color);\n",
              "      border-right-color: var(--fill-color);\n",
              "    }\n",
              "    40% {\n",
              "      border-color: transparent;\n",
              "      border-right-color: var(--fill-color);\n",
              "      border-top-color: var(--fill-color);\n",
              "    }\n",
              "    60% {\n",
              "      border-color: transparent;\n",
              "      border-right-color: var(--fill-color);\n",
              "    }\n",
              "    80% {\n",
              "      border-color: transparent;\n",
              "      border-right-color: var(--fill-color);\n",
              "      border-bottom-color: var(--fill-color);\n",
              "    }\n",
              "    90% {\n",
              "      border-color: transparent;\n",
              "      border-bottom-color: var(--fill-color);\n",
              "    }\n",
              "  }\n",
              "</style>\n",
              "\n",
              "  <script>\n",
              "    async function quickchart(key) {\n",
              "      const quickchartButtonEl =\n",
              "        document.querySelector('#' + key + ' button');\n",
              "      quickchartButtonEl.disabled = true;  // To prevent multiple clicks.\n",
              "      quickchartButtonEl.classList.add('colab-df-spinner');\n",
              "      try {\n",
              "        const charts = await google.colab.kernel.invokeFunction(\n",
              "            'suggestCharts', [key], {});\n",
              "      } catch (error) {\n",
              "        console.error('Error during call to suggestCharts:', error);\n",
              "      }\n",
              "      quickchartButtonEl.classList.remove('colab-df-spinner');\n",
              "      quickchartButtonEl.classList.add('colab-df-quickchart-complete');\n",
              "    }\n",
              "    (() => {\n",
              "      let quickchartButtonEl =\n",
              "        document.querySelector('#df-37ca819e-5696-4f27-bbe3-3c7209f74cea button');\n",
              "      quickchartButtonEl.style.display =\n",
              "        google.colab.kernel.accessAllowed ? 'block' : 'none';\n",
              "    })();\n",
              "  </script>\n",
              "</div>\n",
              "    </div>\n",
              "  </div>\n"
            ],
            "application/vnd.google.colaboratory.intrinsic+json": {
              "type": "dataframe",
              "summary": "{\n  \"name\": \"data\",\n  \"rows\": 8,\n  \"fields\": [\n    {\n      \"column\": \"BPM\",\n      \"properties\": {\n        \"dtype\": \"number\",\n        \"std\": 32316.55632477294,\n        \"min\": 8.60449334772065,\n        \"max\": 91459.0,\n        \"num_unique_values\": 8,\n        \"samples\": [\n          59.07698968936901,\n          56.39,\n          91459.0\n        ],\n        \"semantic_type\": \"\",\n        \"description\": \"\"\n      }\n    },\n    {\n      \"column\": \"Person\",\n      \"properties\": {\n        \"dtype\": \"number\",\n        \"std\": 32335.012501939826,\n        \"min\": 0.39794142600719007,\n        \"max\": 91459.0,\n        \"num_unique_values\": 6,\n        \"samples\": [\n          91459.0,\n          2.017166161886747,\n          3.0\n        ],\n        \"semantic_type\": \"\",\n        \"description\": \"\"\n      }\n    },\n    {\n      \"column\": \"Time\",\n      \"properties\": {\n        \"dtype\": \"number\",\n        \"std\": 33464.5789691622,\n        \"min\": 400.0,\n        \"max\": 91459.0,\n        \"num_unique_values\": 8,\n        \"samples\": [\n          27929.021025814847,\n          25817.0,\n          91459.0\n        ],\n        \"semantic_type\": \"\",\n        \"description\": \"\"\n      }\n    }\n  ]\n}"
            }
          },
          "metadata": {},
          "execution_count": 10
        }
      ],
      "source": [
        "# Descriptive statistics of dataset\n",
        "data.describe()"
      ],
      "metadata": {
        "ExecuteTime": {
          "end_time": "2024-04-16T13:07:26.149136300Z",
          "start_time": "2024-04-16T13:07:26.133290Z"
        },
        "colab": {
          "base_uri": "https://localhost:8080/",
          "height": 300
        },
        "id": "b69df80788e6dba4",
        "outputId": "3b06a42e-4e85-431a-c588-3d59e31cbe21"
      },
      "id": "b69df80788e6dba4"
    },
    {
      "cell_type": "code",
      "execution_count": null,
      "outputs": [],
      "source": [
        "# Splitting the Data\n",
        "X = data[['BPM']]\n",
        "y = data['State']"
      ],
      "metadata": {
        "ExecuteTime": {
          "end_time": "2024-04-16T13:09:43.984970500Z",
          "start_time": "2024-04-16T13:09:43.982993600Z"
        },
        "id": "297618d4ee007d68"
      },
      "id": "297618d4ee007d68"
    },
    {
      "cell_type": "code",
      "execution_count": null,
      "outputs": [],
      "source": [
        "# Consolidate states\n",
        "consolidated_y = consolidate_states(y)"
      ],
      "metadata": {
        "ExecuteTime": {
          "end_time": "2024-04-16T13:09:44.698284400Z",
          "start_time": "2024-04-16T13:09:44.676071600Z"
        },
        "id": "5f9a24c5447e30c8"
      },
      "id": "5f9a24c5447e30c8"
    },
    {
      "cell_type": "code",
      "execution_count": null,
      "outputs": [],
      "source": [
        "# Save consolidated states to a CSV file\n",
        "consolidated_data = pd.DataFrame({'BPM': X['BPM'], 'States': consolidated_y})\n",
        "consolidated_data.to_csv('modified_states.csv', index=False)"
      ],
      "metadata": {
        "ExecuteTime": {
          "end_time": "2024-04-16T13:09:45.186672700Z",
          "start_time": "2024-04-16T13:09:45.105993400Z"
        },
        "id": "7943e3e34f985bf3"
      },
      "id": "7943e3e34f985bf3"
    },
    {
      "cell_type": "code",
      "execution_count": null,
      "outputs": [],
      "source": [
        "# Using Label Encoder for \"State\" Variable\n",
        "le = LabelEncoder()\n",
        "y = le.fit_transform(consolidated_y)"
      ],
      "metadata": {
        "ExecuteTime": {
          "end_time": "2024-04-16T13:09:46.261153400Z",
          "start_time": "2024-04-16T13:09:46.188402Z"
        },
        "id": "805d22c0f0224cb5"
      },
      "id": "805d22c0f0224cb5"
    },
    {
      "cell_type": "code",
      "execution_count": null,
      "outputs": [
        {
          "output_type": "stream",
          "name": "stdout",
          "text": [
            "\n",
            "First 5 rows of X_train:\n",
            "         BPM\n",
            "88817  57.00\n",
            "77564  56.39\n",
            "53647  55.35\n",
            "63562  55.35\n",
            "16293  57.47\n",
            "34230  58.59\n",
            "22926  54.35\n",
            "27534  59.82\n",
            "30025  52.40\n",
            "62511  69.52\n",
            "33157  58.65\n",
            "76164  57.47\n",
            "58651  53.38\n",
            "19482  50.63\n",
            "75104  56.39\n",
            "27715  54.35\n",
            "75814  53.33\n",
            "41174  59.76\n",
            "89757  78.00\n",
            "48147  62.31\n",
            "\n",
            "First 5 rows of y_train:\n",
            "[0 0 0 0 0 0 0 0 0 0 0 0 0 0 0 0 0 0 1 1]\n",
            "\n",
            "First 5 rows of X_test:\n",
            "         BPM\n",
            "62181  59.76\n",
            "54900  55.35\n",
            "87190  57.00\n",
            "73137  59.82\n",
            "78706  54.35\n",
            "\n",
            "First 5 rows of y_test:\n",
            "[0 0 0 0 0]\n"
          ]
        }
      ],
      "source": [
        "X_train, X_test, y_train, y_test = train_test_split(X, y, test_size=0.2, random_state=42)\n",
        "X_train.shape, y_train.shape, X_test.shape, y_test.shape\n",
        "# Print the first few rows of each\n",
        "print(\"\\nFirst 5 rows of X_train:\")\n",
        "print(X_train[:20])\n",
        "\n",
        "print(\"\\nFirst 5 rows of y_train:\")\n",
        "print(y_train[:20])\n",
        "\n",
        "print(\"\\nFirst 5 rows of X_test:\")\n",
        "print(X_test.head())\n",
        "\n",
        "print(\"\\nFirst 5 rows of y_test:\")\n",
        "print(y_train[:5])"
      ],
      "metadata": {
        "ExecuteTime": {
          "end_time": "2024-04-16T13:09:46.769869500Z",
          "start_time": "2024-04-16T13:09:46.760927700Z"
        },
        "colab": {
          "base_uri": "https://localhost:8080/"
        },
        "id": "754d6cb20af4f34c",
        "outputId": "4deba032-9143-41db-b637-46aa5a955bdc"
      },
      "id": "754d6cb20af4f34c"
    },
    {
      "cell_type": "code",
      "execution_count": null,
      "outputs": [
        {
          "output_type": "stream",
          "name": "stdout",
          "text": [
            "[[-0.24223518]\n",
            " [-0.31296411]\n",
            " [-0.43355113]\n",
            " ...\n",
            " [ 0.08474116]\n",
            " [ 2.29009224]\n",
            " [-0.66197077]]\n",
            "[[ 0.07778422]\n",
            " [-0.43355113]\n",
            " [-0.24223518]\n",
            " ...\n",
            " [-0.18773913]\n",
            " [-0.97503323]\n",
            " [ 0.68651677]]\n"
          ]
        }
      ],
      "source": [
        "# Normalize the  data\n",
        "sc = StandardScaler()\n",
        "X_train = sc.fit_transform(X_train)\n",
        "X_test = sc.transform(X_test)\n",
        "print(X_train)\n",
        "print(X_test)"
      ],
      "metadata": {
        "ExecuteTime": {
          "end_time": "2024-04-16T13:09:47.725173900Z",
          "start_time": "2024-04-16T13:09:47.717481600Z"
        },
        "id": "a96624da92015e3e",
        "colab": {
          "base_uri": "https://localhost:8080/"
        },
        "outputId": "70341471-69b5-4d56-f96b-efa157bebb8c"
      },
      "id": "a96624da92015e3e"
    },
    {
      "cell_type": "markdown",
      "source": [
        "# Logistic Regression"
      ],
      "metadata": {
        "collapsed": false,
        "id": "1833695c62214cf7"
      },
      "id": "1833695c62214cf7"
    },
    {
      "cell_type": "code",
      "execution_count": null,
      "outputs": [],
      "source": [
        "# Train Logistic Model\n",
        "lr_model = LogisticRegression()\n",
        "lr_model.fit(X_train, y_train)\n",
        "# Cross validation - Five Folds\n",
        "lr_cv_accuracy = cross_val_score(lr_model, X_train, y_train, cv=5)\n",
        "lr_cv_predictions = cross_val_predict(lr_model, X_train, y_train, cv=5)\n",
        "# Confusion Matrix for Logistic Regression\n",
        "lr_conf_matrix = confusion_matrix(y_train, lr_cv_predictions)"
      ],
      "metadata": {
        "ExecuteTime": {
          "end_time": "2024-04-16T13:09:49.561650200Z",
          "start_time": "2024-04-16T13:09:49.259874900Z"
        },
        "id": "3488a500af9f0a03"
      },
      "id": "3488a500af9f0a03"
    },
    {
      "cell_type": "markdown",
      "source": [
        "Conversion to TFLite"
      ],
      "metadata": {
        "id": "jg-ZaTJv7KNs"
      },
      "id": "jg-ZaTJv7KNs"
    },
    {
      "cell_type": "code",
      "source": [],
      "metadata": {
        "id": "5cK4XXnd7Ji0"
      },
      "id": "5cK4XXnd7Ji0",
      "execution_count": null,
      "outputs": []
    },
    {
      "cell_type": "code",
      "source": [
        "!pip install scikit-learn==1.4.0\n"
      ],
      "metadata": {
        "colab": {
          "base_uri": "https://localhost:8080/"
        },
        "id": "GkJeqaE07MbN",
        "outputId": "a57ffaa9-8d6c-4c52-d31a-3ea67128a8b4"
      },
      "id": "GkJeqaE07MbN",
      "execution_count": null,
      "outputs": [
        {
          "output_type": "stream",
          "name": "stdout",
          "text": [
            "Requirement already satisfied: scikit-learn==1.4.0 in /usr/local/lib/python3.10/dist-packages (1.4.0)\n",
            "Requirement already satisfied: numpy<2.0,>=1.19.5 in /usr/local/lib/python3.10/dist-packages (from scikit-learn==1.4.0) (1.25.2)\n",
            "Requirement already satisfied: scipy>=1.6.0 in /usr/local/lib/python3.10/dist-packages (from scikit-learn==1.4.0) (1.11.4)\n",
            "Requirement already satisfied: joblib>=1.2.0 in /usr/local/lib/python3.10/dist-packages (from scikit-learn==1.4.0) (1.4.0)\n",
            "Requirement already satisfied: threadpoolctl>=2.0.0 in /usr/local/lib/python3.10/dist-packages (from scikit-learn==1.4.0) (3.4.0)\n"
          ]
        }
      ]
    },
    {
      "cell_type": "code",
      "source": [
        "#Load Scikit\n",
        "model = joblib.load('lr_model.pkl')"
      ],
      "metadata": {
        "id": "ZwqBOHpo7NzC"
      },
      "id": "ZwqBOHpo7NzC",
      "execution_count": null,
      "outputs": []
    },
    {
      "cell_type": "code",
      "source": [
        "# Extract coefficients and intercept\n",
        "weights = model.coef_\n",
        "bias = model.intercept_"
      ],
      "metadata": {
        "id": "KSm1R2n67On4"
      },
      "id": "KSm1R2n67On4",
      "execution_count": null,
      "outputs": []
    },
    {
      "cell_type": "code",
      "source": [
        "# Create a TensorFlow model\n",
        "tf_model = tf.keras.Sequential([\n",
        "    tf.keras.layers.Dense(1, input_shape=(len(weights),), kernel_initializer=tf.constant_initializer(weights),\n",
        "                          bias_initializer=tf.constant_initializer(bias))\n",
        "])\n",
        "\n",
        "# Compile the model (you can adjust optimizer and loss as per your needs)\n",
        "tf_model.compile(optimizer='sgd', loss='mse')"
      ],
      "metadata": {
        "id": "8l4DkCWU7QCu"
      },
      "id": "8l4DkCWU7QCu",
      "execution_count": null,
      "outputs": []
    },
    {
      "cell_type": "code",
      "source": [
        "#Tensorflow Model to TFLite\n",
        "converter = tf.lite.TFLiteConverter.from_keras_model(tf_model)\n",
        "tflite_model = converter.convert()"
      ],
      "metadata": {
        "id": "_KwN5ZYL7fVd"
      },
      "id": "_KwN5ZYL7fVd",
      "execution_count": null,
      "outputs": []
    },
    {
      "cell_type": "code",
      "source": [
        "# Save the TFLite to a file\n",
        "with open('sleep_lr.tflite', 'wb') as f:\n",
        "    f.write(tflite_model)"
      ],
      "metadata": {
        "id": "Lnphi2_V7f2L"
      },
      "id": "Lnphi2_V7f2L",
      "execution_count": null,
      "outputs": []
    },
    {
      "cell_type": "markdown",
      "source": [
        "START\n"
      ],
      "metadata": {
        "id": "Q8eDTfDmlbtO"
      },
      "id": "Q8eDTfDmlbtO"
    },
    {
      "cell_type": "code",
      "source": [
        "# Consolidate states function\n",
        "def consolidate_states(states):\n",
        "    consolidated_states = []\n",
        "    current_state = None\n",
        "    consecutive_count = 0\n",
        "\n",
        "    for state in states:\n",
        "        if state == current_state:\n",
        "            consecutive_count += 1\n",
        "        else:\n",
        "            if current_state is not None:\n",
        "                if consecutive_count > 1:\n",
        "                    consolidated_states.extend([current_state] * consecutive_count)\n",
        "                else:\n",
        "                    consolidated_states.append(current_state)\n",
        "\n",
        "            current_state = state\n",
        "            consecutive_count = 1\n",
        "\n",
        "    if current_state is not None:\n",
        "        if consecutive_count > 1:\n",
        "            consolidated_states.extend([current_state] * consecutive_count)\n",
        "        else:\n",
        "            consolidated_states.append(current_state)\n",
        "\n",
        "    # Update singular occurrences based on surrounding states\n",
        "    for i in range(1, len(consolidated_states) - 1):\n",
        "        if consolidated_states[i] == \"Asleep\" and consolidated_states[i-1] == consolidated_states[i+1] == \"Awake\":\n",
        "            consolidated_states[i] = \"Awake\"\n",
        "        elif consolidated_states[i] == \"Awake\" and consolidated_states[i-1] == consolidated_states[i+1] == \"Asleep\":\n",
        "            consolidated_states[i] = \"Asleep\"\n",
        "\n",
        "    return consolidated_states"
      ],
      "metadata": {
        "id": "7yMh0ZelkcC2"
      },
      "id": "7yMh0ZelkcC2",
      "execution_count": null,
      "outputs": []
    },
    {
      "cell_type": "code",
      "source": [
        "# Load TFLite model\n",
        "interpreter = tf.lite.Interpreter(model_path=\"sleep_lr.tflite\")\n",
        "interpreter.allocate_tensors()"
      ],
      "metadata": {
        "id": "fmJ2FelD7R72"
      },
      "id": "fmJ2FelD7R72",
      "execution_count": null,
      "outputs": []
    },
    {
      "cell_type": "code",
      "source": [
        "input_details = interpreter.get_input_details()\n",
        "output_details = interpreter.get_output_details()"
      ],
      "metadata": {
        "id": "QfMn9Q2T7S8F"
      },
      "id": "QfMn9Q2T7S8F",
      "execution_count": null,
      "outputs": []
    },
    {
      "cell_type": "code",
      "source": [
        "# Print first 10 rows of 'BPM' column\n",
        "print(\"Original 'BPM' values:\")\n",
        "print(data['BPM'].head(10))"
      ],
      "metadata": {
        "id": "Cr4E6uIp7TwB",
        "colab": {
          "base_uri": "https://localhost:8080/"
        },
        "outputId": "e052e208-3881-4c49-e65a-8ec1a7dbf346"
      },
      "id": "Cr4E6uIp7TwB",
      "execution_count": null,
      "outputs": [
        {
          "output_type": "stream",
          "name": "stdout",
          "text": [
            "Original 'BPM' values:\n",
            "0     3.59\n",
            "1    12.48\n",
            "2    19.71\n",
            "3    76.82\n",
            "4    24.97\n",
            "5    90.77\n",
            "6    83.22\n",
            "7    90.77\n",
            "8    41.01\n",
            "9    78.84\n",
            "Name: BPM, dtype: float64\n"
          ]
        }
      ]
    },
    {
      "cell_type": "code",
      "source": [
        "# Set the BPM ranges\n",
        "bpm_ranges = [(50, 60, 'Asleep'), (61, 90.9, 'Awake')]\n",
        "# Filter data for BPM between 50 and 90.9\n",
        "filtered_data = data[(data['BPM'] >= 50) & (data['BPM'] <= 90.9)]\n"
      ],
      "metadata": {
        "id": "DikCMVmemGlc"
      },
      "id": "DikCMVmemGlc",
      "execution_count": null,
      "outputs": []
    },
    {
      "cell_type": "code",
      "source": [
        "\n",
        "# Categorize 'State' based on BPM range\n",
        "filtered_data['State'] = pd.cut(filtered_data['BPM'],\n",
        "                               bins=[r[0] for r in bpm_ranges] + [bpm_ranges[-1][1]],\n",
        "                               right=False,\n",
        "                               labels=[r[2] for r in bpm_ranges])\n",
        "\n",
        "# Fit LabelEncoder on original 'State' labels\n",
        "le = LabelEncoder()\n",
        "le.fit(filtered_data['State'])\n",
        "# Print first 10 rows of updated 'State' and 'BPM' columns\n",
        "print(\"\\nFiltered 'BPM' and 'State' values:\")\n",
        "print(filtered_data[['BPM', 'State']].head(10))"
      ],
      "metadata": {
        "colab": {
          "base_uri": "https://localhost:8080/"
        },
        "id": "5rHnhR9lmL1y",
        "outputId": "25c3ef0a-b441-498f-9334-be298f1a0e4c"
      },
      "id": "5rHnhR9lmL1y",
      "execution_count": null,
      "outputs": [
        {
          "output_type": "stream",
          "name": "stdout",
          "text": [
            "\n",
            "Filtered 'BPM' and 'State' values:\n",
            "      BPM  State\n",
            "3   76.82  Awake\n",
            "5   90.77  Awake\n",
            "6   83.22  Awake\n",
            "7   90.77  Awake\n",
            "9   78.84  Awake\n",
            "10  88.11  Awake\n",
            "11  83.22  Awake\n",
            "12  80.97  Awake\n",
            "13  78.84  Awake\n",
            "14  83.22  Awake\n"
          ]
        }
      ]
    },
    {
      "cell_type": "code",
      "source": [
        "\n",
        "# Save to a new CSV\n",
        "filtered_data.to_csv(\"sleep_data_cleaned_NoState.csv\", index=False)\n",
        "\n",
        "print(\"\\nFiltered data saved to sleep_data.csv\")"
      ],
      "metadata": {
        "colab": {
          "base_uri": "https://localhost:8080/"
        },
        "id": "qUweY03gmMui",
        "outputId": "c776701a-b0ed-42c3-c621-fdff177a7d12"
      },
      "id": "qUweY03gmMui",
      "execution_count": null,
      "outputs": [
        {
          "output_type": "stream",
          "name": "stdout",
          "text": [
            "\n",
            "Filtered data saved to sleep_data.csv\n"
          ]
        }
      ]
    },
    {
      "cell_type": "code",
      "source": [
        "# Select the 'BPM' column\n",
        "X_new = filtered_data[['BPM']]\n",
        "print(X_new)"
      ],
      "metadata": {
        "id": "mRi_-0zt7VZw",
        "colab": {
          "base_uri": "https://localhost:8080/"
        },
        "outputId": "cb8387b8-2d98-4856-c3c2-081c7fa3d67c"
      },
      "id": "mRi_-0zt7VZw",
      "execution_count": null,
      "outputs": [
        {
          "output_type": "stream",
          "name": "stdout",
          "text": [
            "          BPM\n",
            "3       76.82\n",
            "5       90.77\n",
            "6       83.22\n",
            "7       90.77\n",
            "9       78.84\n",
            "...       ...\n",
            "124261  71.00\n",
            "124262  65.00\n",
            "124263  78.00\n",
            "124264  75.00\n",
            "124265  53.00\n",
            "\n",
            "[91459 rows x 1 columns]\n"
          ]
        }
      ]
    },
    {
      "cell_type": "code",
      "source": [
        "# Reshape X to match expected input shape for TFLite model\n",
        "X_np = X.values.reshape(-1, 1, 1).astype(np.float32)"
      ],
      "metadata": {
        "id": "UHnbFEA1oz03"
      },
      "id": "UHnbFEA1oz03",
      "execution_count": null,
      "outputs": []
    },
    {
      "cell_type": "code",
      "source": [
        "# Initialize an empty list to collect predictions\n",
        "y_pred_tflite_list = []\n",
        "\n",
        "# Process each value in the batch\n",
        "for x in X_np:\n",
        "    # Reshape the individual value to [1, 1]\n",
        "    x_reshaped = x.reshape((1, 1))\n",
        "\n",
        "    # Set tensor and invoke inference\n",
        "    interpreter.set_tensor(input_details[0]['index'], x_reshaped)\n",
        "    interpreter.invoke()\n",
        "\n",
        "    # Get the prediction\n",
        "    output = interpreter.get_tensor(output_details[0]['index'])\n",
        "    # Append the prediction to the list\n",
        "    y_pred_tflite_list.append(output.squeeze())\n",
        "\n",
        "# Convert list to numpy array\n",
        "y_pred_binary = np.array(y_pred_tflite_list).astype(int)\n",
        "\n",
        "# Print first 10 binary predictions\n",
        "print(\"First 10 binary predictions from TFLite model:\")\n",
        "print(y_pred_binary[:10])\n"
      ],
      "metadata": {
        "colab": {
          "base_uri": "https://localhost:8080/"
        },
        "id": "zK0_npPAzJSn",
        "outputId": "f6a19a9c-70cd-4cca-b0d6-376b41bbec7c"
      },
      "id": "zK0_npPAzJSn",
      "execution_count": null,
      "outputs": [
        {
          "output_type": "stream",
          "name": "stdout",
          "text": [
            "First 10 binary predictions from TFLite model:\n",
            "[293 347 318 347 301 337 318 309 301 318]\n"
          ]
        }
      ]
    },
    {
      "cell_type": "code",
      "source": [
        "import numpy as np\n",
        "\n",
        "# Convert y_pred_tflite_list to a numpy array\n",
        "y_pred_tflite_array = np.array(y_pred_tflite_list)\n",
        "\n",
        "# Apply threshold to convert probabilities to binary labels\n",
        "y_pred_binary = (y_pred_tflite_array >= 0.5).astype(int)\n",
        "\n",
        "# Print first 10 binary predictions\n",
        "print(\"First 10 binary predictions from TFLite model:\")\n",
        "print(y_pred_binary[:10])\n"
      ],
      "metadata": {
        "colab": {
          "base_uri": "https://localhost:8080/"
        },
        "id": "G0DfWOmOzTQR",
        "outputId": "6672915e-b8f1-41dc-a0de-d0e5b3fd6860"
      },
      "id": "G0DfWOmOzTQR",
      "execution_count": null,
      "outputs": [
        {
          "output_type": "stream",
          "name": "stdout",
          "text": [
            "First 10 binary predictions from TFLite model:\n",
            "[1 1 1 1 1 1 1 1 1 1]\n"
          ]
        }
      ]
    },
    {
      "cell_type": "code",
      "source": [
        "# Map binary predictions to original labels\n",
        "predicted_labels = np.where(y_pred_binary == 1, 'Awake', 'Asleep')\n",
        "\n",
        "# Print first 10 predicted labels\n",
        "print(\"First 10 predicted labels from TFLite model:\")\n",
        "print(predicted_labels[:10])\n"
      ],
      "metadata": {
        "colab": {
          "base_uri": "https://localhost:8080/"
        },
        "id": "wagxxq0hzimy",
        "outputId": "f61a7096-134a-4c18-9b31-d897236f5fa4"
      },
      "id": "wagxxq0hzimy",
      "execution_count": null,
      "outputs": [
        {
          "output_type": "stream",
          "name": "stdout",
          "text": [
            "First 10 predicted labels from TFLite model:\n",
            "['Awake' 'Awake' 'Awake' 'Awake' 'Awake' 'Awake' 'Awake' 'Awake' 'Awake'\n",
            " 'Awake']\n"
          ]
        }
      ]
    },
    {
      "cell_type": "code",
      "source": [
        "# Define batch size\n",
        "batch_size = 1000  # You can adjust this number based on your system's memory capacity\n",
        "\n",
        "# Initialize an empty list to collect predictions\n",
        "y_pred_tflite_list = []"
      ],
      "metadata": {
        "id": "H-ct2v7w93wM"
      },
      "id": "H-ct2v7w93wM",
      "execution_count": null,
      "outputs": []
    },
    {
      "cell_type": "code",
      "source": [
        "# Process each value in the batch\n",
        "for x in X_np:\n",
        "    # Reshape the individual value to [1, 1]\n",
        "    x_reshaped = x.reshape((1, 1))"
      ],
      "metadata": {
        "id": "tgPRSujgnWTv"
      },
      "id": "tgPRSujgnWTv",
      "execution_count": null,
      "outputs": []
    },
    {
      "cell_type": "code",
      "source": [
        "# Run inference and get predictions\n",
        "interpreter.set_tensor(input_details[0]['index'], x_reshaped)\n",
        "interpreter.invoke()\n",
        "y_pred_tflite = interpreter.get_tensor(output_details[0]['index']).squeeze()\n",
        "\n",
        "print(\"First 10 predictions from TFLite model:\")\n",
        "print(y_pred_tflite)"
      ],
      "metadata": {
        "colab": {
          "base_uri": "https://localhost:8080/"
        },
        "id": "meYfxmtKyIEv",
        "outputId": "b8c9ef4f-c22f-46c2-855c-ad77e7045623"
      },
      "id": "meYfxmtKyIEv",
      "execution_count": null,
      "outputs": [
        {
          "output_type": "stream",
          "name": "stdout",
          "text": [
            "First 10 predictions from TFLite model:\n",
            "201.89882\n"
          ]
        }
      ]
    },
    {
      "cell_type": "code",
      "source": [
        "# Set tensor and invoke inference\n",
        "interpreter.set_tensor(input_details[0]['index'], x_reshaped)\n",
        "interpreter.invoke()"
      ],
      "metadata": {
        "id": "SZpoD7qPp_Vn"
      },
      "id": "SZpoD7qPp_Vn",
      "execution_count": null,
      "outputs": []
    },
    {
      "cell_type": "code",
      "source": [
        "# Get the prediction\n",
        "output = interpreter.get_tensor(output_details[0]['index'])\n",
        "print(output)"
      ],
      "metadata": {
        "colab": {
          "base_uri": "https://localhost:8080/"
        },
        "id": "pkoDtiwAql2o",
        "outputId": "8c55e58c-a4b9-498e-e161-fce83377c31a"
      },
      "id": "pkoDtiwAql2o",
      "execution_count": null,
      "outputs": [
        {
          "output_type": "stream",
          "name": "stdout",
          "text": [
            "201.89882\n"
          ]
        }
      ]
    },
    {
      "cell_type": "code",
      "source": [
        "# Apply threshold to convert probabilities to binary labels\n",
        "y_pred_binary = (y_pred_tflite >= 0.5).astype(int)\n",
        "\n",
        "print(\"First 10 binary predictions from TFLite model:\")\n",
        "print(y_pred_binary[:10])"
      ],
      "metadata": {
        "colab": {
          "base_uri": "https://localhost:8080/",
          "height": 193
        },
        "id": "95ShPnTVyteS",
        "outputId": "7a41529d-104e-43c8-a195-6b40fb51623e"
      },
      "id": "95ShPnTVyteS",
      "execution_count": null,
      "outputs": [
        {
          "output_type": "stream",
          "name": "stdout",
          "text": [
            "First 10 binary predictions from TFLite model:\n"
          ]
        },
        {
          "output_type": "error",
          "ename": "IndexError",
          "evalue": "invalid index to scalar variable.",
          "traceback": [
            "\u001b[0;31m---------------------------------------------------------------------------\u001b[0m",
            "\u001b[0;31mIndexError\u001b[0m                                Traceback (most recent call last)",
            "\u001b[0;32m<ipython-input-168-9cd1c07e5703>\u001b[0m in \u001b[0;36m<cell line: 5>\u001b[0;34m()\u001b[0m\n\u001b[1;32m      3\u001b[0m \u001b[0;34m\u001b[0m\u001b[0m\n\u001b[1;32m      4\u001b[0m \u001b[0mprint\u001b[0m\u001b[0;34m(\u001b[0m\u001b[0;34m\"First 10 binary predictions from TFLite model:\"\u001b[0m\u001b[0;34m)\u001b[0m\u001b[0;34m\u001b[0m\u001b[0;34m\u001b[0m\u001b[0m\n\u001b[0;32m----> 5\u001b[0;31m \u001b[0mprint\u001b[0m\u001b[0;34m(\u001b[0m\u001b[0my_pred_binary\u001b[0m\u001b[0;34m[\u001b[0m\u001b[0;34m:\u001b[0m\u001b[0;36m10\u001b[0m\u001b[0;34m]\u001b[0m\u001b[0;34m)\u001b[0m\u001b[0;34m\u001b[0m\u001b[0;34m\u001b[0m\u001b[0m\n\u001b[0m",
            "\u001b[0;31mIndexError\u001b[0m: invalid index to scalar variable."
          ]
        }
      ]
    },
    {
      "cell_type": "code",
      "source": [],
      "metadata": {
        "colab": {
          "base_uri": "https://localhost:8080/"
        },
        "id": "HnxfXqLvs6mg",
        "outputId": "1a73d107-8427-4dce-fe36-7a8601740803"
      },
      "id": "HnxfXqLvs6mg",
      "execution_count": null,
      "outputs": [
        {
          "output_type": "stream",
          "name": "stdout",
          "text": [
            "[[201.89882]]\n"
          ]
        }
      ]
    },
    {
      "cell_type": "code",
      "source": [
        "# Append the prediction to the list\n",
        "y_pred_tflite_list.append(output.squeeze())"
      ],
      "metadata": {
        "id": "rywODDAuqm8H"
      },
      "id": "rywODDAuqm8H",
      "execution_count": null,
      "outputs": []
    },
    {
      "cell_type": "code",
      "source": [
        "# Convert the list to a numpy array\n",
        "y_pred_tflite_list = np.array(y_pred_tflite_list)\n",
        "print(y_pred_tflite_list)"
      ],
      "metadata": {
        "colab": {
          "base_uri": "https://localhost:8080/"
        },
        "id": "_KON9S8xnfvs",
        "outputId": "3b7a3dd2-467f-43c0-9e77-f7d9770b1abc"
      },
      "id": "_KON9S8xnfvs",
      "execution_count": null,
      "outputs": [
        {
          "output_type": "stream",
          "name": "stdout",
          "text": [
            "[201.89882]\n"
          ]
        }
      ]
    },
    {
      "cell_type": "code",
      "source": [
        "# Consolidate states\n",
        "consolidated_states = consolidate_states(y_pred_tflite_list)\n",
        "print(consolidate_states)"
      ],
      "metadata": {
        "id": "wzkAHCH79-MK",
        "colab": {
          "base_uri": "https://localhost:8080/"
        },
        "outputId": "38dd731b-029d-4bdd-fc48-6e9209bbb8a5"
      },
      "id": "wzkAHCH79-MK",
      "execution_count": null,
      "outputs": [
        {
          "output_type": "stream",
          "name": "stdout",
          "text": [
            "<function consolidate_states at 0x7da854db17e0>\n"
          ]
        }
      ]
    },
    {
      "cell_type": "code",
      "source": [
        "# Handle unseen labels by setting them to 'UNKNOWN'\n",
        "filtered_data['Encoded_State'] = le.fit_transform(filtered_data['State'])\n",
        "\n",
        "# Print unique labels in the encoded 'State'\n",
        "print(\"Unique labels in the encoded 'State':\", le.classes_)"
      ],
      "metadata": {
        "colab": {
          "base_uri": "https://localhost:8080/"
        },
        "id": "Bp83JMCYxjn1",
        "outputId": "e66acd4e-51e1-4d64-e303-30f4923691c4"
      },
      "id": "Bp83JMCYxjn1",
      "execution_count": null,
      "outputs": [
        {
          "output_type": "stream",
          "name": "stdout",
          "text": [
            "Unique labels in the encoded 'State': ['Asleep' 'Awake']\n"
          ]
        }
      ]
    },
    {
      "cell_type": "code",
      "source": [
        "# Convert predictions to the original label using LabelEncoder\n",
        "y_pred_np = np.array(y_pred_tflite_list).round().astype(int)"
      ],
      "metadata": {
        "id": "J7sq4mEZtZzk"
      },
      "id": "J7sq4mEZtZzk",
      "execution_count": null,
      "outputs": []
    },
    {
      "cell_type": "code",
      "source": [
        "# Filter out unknown labels\n",
        "filtered_indices = np.isin(y_pred_np, le.classes_)\n",
        "y_pred_labels_original = le.inverse_transform(y_pred_np[filtered_indices])"
      ],
      "metadata": {
        "id": "eHZtusKluMRR"
      },
      "id": "eHZtusKluMRR",
      "execution_count": null,
      "outputs": []
    },
    {
      "cell_type": "code",
      "source": [
        "# Replace filtered indices with the predicted labels\n",
        "y_pred_filtered = np.full(y_pred_np.shape[0], fill_value='UNKNOWN', dtype=object)\n",
        "y_pred_filtered[filtered_indices] = y_pred_labels_original"
      ],
      "metadata": {
        "id": "6g4tmkDeulFG"
      },
      "id": "6g4tmkDeulFG",
      "execution_count": null,
      "outputs": []
    },
    {
      "cell_type": "code",
      "source": [
        "# If y_pred_filtered is a single value, repeat it to match the length of X_new\n",
        "if len(y_pred_filtered) == 1:\n",
        "    y_pred_filtered = [y_pred_filtered[0]] * len(X_new)\n",
        "elif len(y_pred_filtered) != len(X_new):\n",
        "    raise ValueError(f\"Length of y_pred_filtered ({len(y_pred_filtered)}) does not match length of X_new ({len(X_new)})\")"
      ],
      "metadata": {
        "id": "k-qIQTRYvL8G"
      },
      "id": "k-qIQTRYvL8G",
      "execution_count": null,
      "outputs": []
    },
    {
      "cell_type": "code",
      "source": [
        "# Create a new DataFrame to store the predicted data\n",
        "predicted_data = X_new.copy()"
      ],
      "metadata": {
        "id": "Nycl_tCyvbwR"
      },
      "id": "Nycl_tCyvbwR",
      "execution_count": null,
      "outputs": []
    },
    {
      "cell_type": "code",
      "source": [
        "# Add predictions to the new DataFrame\n",
        "predicted_data['Predicted_State'] = predicted_labels"
      ],
      "metadata": {
        "id": "RmUQrM_ek3-j"
      },
      "id": "RmUQrM_ek3-j",
      "execution_count": null,
      "outputs": []
    },
    {
      "cell_type": "code",
      "source": [
        "# Save to a new CSV\n",
        "predicted_data.to_csv(\"predicted_data.csv\", index=False)\n",
        "print(\"Predictions saved to predicted_data.csv\")"
      ],
      "metadata": {
        "colab": {
          "base_uri": "https://localhost:8080/"
        },
        "id": "0HaXVDiDvf4x",
        "outputId": "3d607358-b269-4ba7-94cb-ea7e31c138e0"
      },
      "id": "0HaXVDiDvf4x",
      "execution_count": null,
      "outputs": [
        {
          "output_type": "stream",
          "name": "stdout",
          "text": [
            "Predictions saved to predicted_data.csv\n"
          ]
        }
      ]
    },
    {
      "cell_type": "markdown",
      "source": [
        "END\n"
      ],
      "metadata": {
        "id": "Rt7d9RXmk7r-"
      },
      "id": "Rt7d9RXmk7r-"
    },
    {
      "cell_type": "code",
      "source": [
        "# Initialize LabelEncoder\n",
        "le = LabelEncoder()\n",
        "\n",
        "# Fit and transform the labels to numeric format\n",
        "y_test_numeric = le.fit_transform(y_test_original)\n",
        "y_pred_tflite_numeric = le.transform(y_pred_tflite_original)\n",
        "\n",
        "# Evaluate the TFLite model\n",
        "mse_tflite = mean_squared_error(y_test_numeric, y_pred_tflite_numeric)\n",
        "r2_tflite = r2_score(y_test_numeric, y_pred_tflite_numeric)\n",
        "print(f\"TFLite Model - MSE: {mse_tflite}, R^2: {r2_tflite}\")"
      ],
      "metadata": {
        "colab": {
          "base_uri": "https://localhost:8080/"
        },
        "id": "gulBZhJ_7YhB",
        "outputId": "7caad7d0-c8d0-4c4c-9c40-81068e2d8433"
      },
      "id": "gulBZhJ_7YhB",
      "execution_count": null,
      "outputs": [
        {
          "output_type": "stream",
          "name": "stdout",
          "text": [
            "TFLite Model - MSE: 0.18762300459217143, R^2: -0.23095558546433326\n"
          ]
        }
      ]
    },
    {
      "cell_type": "code",
      "source": [
        "# Confusion Matrix for TFLite Model\n",
        "tflite_conf_matrix = confusion_matrix(y_test_original, y_pred_tflite_original)\n",
        "plt.figure(figsize=(8, 6))\n",
        "sns.heatmap(tflite_conf_matrix, annot=True, fmt=\"d\", cmap=\"Blues\", cbar=False)\n",
        "plt.title(\"TFLite Confusion Matrix\")\n",
        "plt.xlabel(\"Predicted\")\n",
        "plt.ylabel(\"True\")\n",
        "plt.show()"
      ],
      "metadata": {
        "colab": {
          "base_uri": "https://localhost:8080/",
          "height": 564
        },
        "id": "ToixBoH_7ZzR",
        "outputId": "3c354c9d-16ba-4dc3-cfb9-40f425b053bc"
      },
      "id": "ToixBoH_7ZzR",
      "execution_count": null,
      "outputs": [
        {
          "output_type": "display_data",
          "data": {
            "text/plain": [
              "<Figure size 800x600 with 1 Axes>"
            ],
            "image/png": "[encoded data removed]"
          },
          "metadata": {}
        }
      ]
    },
    {
      "cell_type": "markdown",
      "source": [
        "TestTFLite"
      ],
      "metadata": {
        "id": "bIn62pR0ED8c"
      },
      "id": "bIn62pR0ED8c"
    },
    {
      "cell_type": "code",
      "source": [
        "# Load TFLite model\n",
        "interpreter = tf.lite.Interpreter(model_path=\"sleep_lr.tflite\")\n",
        "interpreter.allocate_tensors()"
      ],
      "metadata": {
        "id": "cobzz93AEFMj"
      },
      "id": "cobzz93AEFMj",
      "execution_count": null,
      "outputs": []
    },
    {
      "cell_type": "code",
      "source": [
        "# Get input and output details\n",
        "input_details = interpreter.get_input_details()\n",
        "output_details = interpreter.get_output_details()"
      ],
      "metadata": {
        "id": "tK4wOw2FEIJ9"
      },
      "id": "tK4wOw2FEIJ9",
      "execution_count": null,
      "outputs": []
    },
    {
      "cell_type": "code",
      "source": [
        "# Load the data\n",
        "data = pd.read_csv(\"cleaned_dataNoState.csv\")"
      ],
      "metadata": {
        "id": "ecSM-l1ZEJN-"
      },
      "id": "ecSM-l1ZEJN-",
      "execution_count": null,
      "outputs": []
    },
    {
      "cell_type": "code",
      "source": [
        "# Assuming 'BPM' column is the feature you want to predict on\n",
        "X = data[['BPM']]"
      ],
      "metadata": {
        "id": "ycEMb9IdERXL"
      },
      "id": "ycEMb9IdERXL",
      "execution_count": null,
      "outputs": []
    },
    {
      "cell_type": "code",
      "source": [
        "# Preprocess the data\n",
        "X_np = X.values.astype(np.float32)\n",
        "X_np = X_np.reshape((X_np.shape[0], -1))"
      ],
      "metadata": {
        "id": "QgSzXMB2ETeq"
      },
      "id": "QgSzXMB2ETeq",
      "execution_count": null,
      "outputs": []
    },
    {
      "cell_type": "code",
      "source": [
        "# Reshape X_np to match the expected input shape\n",
        "X_np_reshaped = X_np[:1].reshape((1, 1)).astype(np.float32)\n",
        "\n",
        "# Check the shape after reshaping\n",
        "print(\"Shape of X_np_reshaped:\", X_np_reshaped.shape)\n"
      ],
      "metadata": {
        "colab": {
          "base_uri": "https://localhost:8080/"
        },
        "id": "hxLKkZ0SEtfx",
        "outputId": "67475bf7-0485-4a5c-fa00-03055b36ddca"
      },
      "id": "hxLKkZ0SEtfx",
      "execution_count": null,
      "outputs": [
        {
          "output_type": "stream",
          "name": "stdout",
          "text": [
            "Shape of X_np_reshaped: (1, 1)\n"
          ]
        }
      ]
    },
    {
      "cell_type": "code",
      "source": [
        "print(\"Shape of X_np:\", X_np.shape)\n"
      ],
      "metadata": {
        "colab": {
          "base_uri": "https://localhost:8080/"
        },
        "id": "NCW4ND7TEx_n",
        "outputId": "fdda2c0f-9878-45b7-cdca-c9ae685bc754"
      },
      "id": "NCW4ND7TEx_n",
      "execution_count": null,
      "outputs": [
        {
          "output_type": "stream",
          "name": "stdout",
          "text": [
            "Shape of X_np: (124267, 1)\n"
          ]
        }
      ]
    },
    {
      "cell_type": "code",
      "source": [],
      "metadata": {
        "id": "0eGJrLPvE1Ne"
      },
      "id": "0eGJrLPvE1Ne",
      "execution_count": null,
      "outputs": []
    },
    {
      "cell_type": "code",
      "source": [
        "# Run inference\n",
        "interpreter.set_tensor(input_details[0]['index'], X_np_reshaped)\n",
        "interpreter.invoke()\n",
        "y_pred_tflite = interpreter.get_tensor(output_details[0]['index'])"
      ],
      "metadata": {
        "id": "OyY3-KoIEUsJ"
      },
      "id": "OyY3-KoIEUsJ",
      "execution_count": null,
      "outputs": []
    },
    {
      "cell_type": "code",
      "source": [
        "# Fit the LabelEncoder on the original labels\n",
        "le.fit(y_test_original)"
      ],
      "metadata": {
        "colab": {
          "base_uri": "https://localhost:8080/",
          "height": 159
        },
        "id": "TC0PAMOxFWCR",
        "outputId": "9892d2d0-67c8-46a1-a4f2-47ababae6c53"
      },
      "id": "TC0PAMOxFWCR",
      "execution_count": null,
      "outputs": [
        {
          "output_type": "error",
          "ename": "NameError",
          "evalue": "name 'y_test_original' is not defined",
          "traceback": [
            "\u001b[0;31m---------------------------------------------------------------------------\u001b[0m",
            "\u001b[0;31mNameError\u001b[0m                                 Traceback (most recent call last)",
            "\u001b[0;32m<ipython-input-42-0301d11bf121>\u001b[0m in \u001b[0;36m<cell line: 2>\u001b[0;34m()\u001b[0m\n\u001b[1;32m      1\u001b[0m \u001b[0;31m# Fit the LabelEncoder on the original labels\u001b[0m\u001b[0;34m\u001b[0m\u001b[0;34m\u001b[0m\u001b[0m\n\u001b[0;32m----> 2\u001b[0;31m \u001b[0mle\u001b[0m\u001b[0;34m.\u001b[0m\u001b[0mfit\u001b[0m\u001b[0;34m(\u001b[0m\u001b[0my_test_original\u001b[0m\u001b[0;34m)\u001b[0m\u001b[0;34m\u001b[0m\u001b[0;34m\u001b[0m\u001b[0m\n\u001b[0m",
            "\u001b[0;31mNameError\u001b[0m: name 'y_test_original' is not defined"
          ]
        }
      ]
    },
    {
      "cell_type": "code",
      "source": [
        "# Convert predictions to original format\n",
        "# Assuming a threshold of 0.5 for binary classification\n",
        "y_pred_labels = (y_pred_tflite >= 0.5).astype(int)\n"
      ],
      "metadata": {
        "id": "PPOdBHT6EWz8"
      },
      "id": "PPOdBHT6EWz8",
      "execution_count": null,
      "outputs": []
    },
    {
      "cell_type": "code",
      "source": [
        "# Convert predictions to 'Asleep' and 'Awake' labels\n",
        "le = LabelEncoder()\n",
        "y_pred_labels_original = le.inverse_transform(y_pred_labels.squeeze())"
      ],
      "metadata": {
        "colab": {
          "base_uri": "https://localhost:8080/",
          "height": 356
        },
        "id": "CEPFmIDHEYXO",
        "outputId": "c1810a21-1486-4528-b321-594571bdd849"
      },
      "id": "CEPFmIDHEYXO",
      "execution_count": null,
      "outputs": [
        {
          "output_type": "error",
          "ename": "NotFittedError",
          "evalue": "This LabelEncoder instance is not fitted yet. Call 'fit' with appropriate arguments before using this estimator.",
          "traceback": [
            "\u001b[0;31m---------------------------------------------------------------------------\u001b[0m",
            "\u001b[0;31mNotFittedError\u001b[0m                            Traceback (most recent call last)",
            "\u001b[0;32m<ipython-input-41-bf9174f67e1e>\u001b[0m in \u001b[0;36m<cell line: 3>\u001b[0;34m()\u001b[0m\n\u001b[1;32m      1\u001b[0m \u001b[0;31m# Convert predictions to 'Asleep' and 'Awake' labels\u001b[0m\u001b[0;34m\u001b[0m\u001b[0;34m\u001b[0m\u001b[0m\n\u001b[1;32m      2\u001b[0m \u001b[0mle\u001b[0m \u001b[0;34m=\u001b[0m \u001b[0mLabelEncoder\u001b[0m\u001b[0;34m(\u001b[0m\u001b[0;34m)\u001b[0m\u001b[0;34m\u001b[0m\u001b[0;34m\u001b[0m\u001b[0m\n\u001b[0;32m----> 3\u001b[0;31m \u001b[0my_pred_labels_original\u001b[0m \u001b[0;34m=\u001b[0m \u001b[0mle\u001b[0m\u001b[0;34m.\u001b[0m\u001b[0minverse_transform\u001b[0m\u001b[0;34m(\u001b[0m\u001b[0my_pred_labels\u001b[0m\u001b[0;34m.\u001b[0m\u001b[0msqueeze\u001b[0m\u001b[0;34m(\u001b[0m\u001b[0;34m)\u001b[0m\u001b[0;34m)\u001b[0m\u001b[0;34m\u001b[0m\u001b[0;34m\u001b[0m\u001b[0m\n\u001b[0m",
            "\u001b[0;32m/usr/local/lib/python3.10/dist-packages/sklearn/preprocessing/_label.py\u001b[0m in \u001b[0;36minverse_transform\u001b[0;34m(self, y)\u001b[0m\n\u001b[1;32m    150\u001b[0m             \u001b[0mOriginal\u001b[0m \u001b[0mencoding\u001b[0m\u001b[0;34m.\u001b[0m\u001b[0;34m\u001b[0m\u001b[0;34m\u001b[0m\u001b[0m\n\u001b[1;32m    151\u001b[0m         \"\"\"\n\u001b[0;32m--> 152\u001b[0;31m         \u001b[0mcheck_is_fitted\u001b[0m\u001b[0;34m(\u001b[0m\u001b[0mself\u001b[0m\u001b[0;34m)\u001b[0m\u001b[0;34m\u001b[0m\u001b[0;34m\u001b[0m\u001b[0m\n\u001b[0m\u001b[1;32m    153\u001b[0m         \u001b[0my\u001b[0m \u001b[0;34m=\u001b[0m \u001b[0mcolumn_or_1d\u001b[0m\u001b[0;34m(\u001b[0m\u001b[0my\u001b[0m\u001b[0;34m,\u001b[0m \u001b[0mwarn\u001b[0m\u001b[0;34m=\u001b[0m\u001b[0;32mTrue\u001b[0m\u001b[0;34m)\u001b[0m\u001b[0;34m\u001b[0m\u001b[0;34m\u001b[0m\u001b[0m\n\u001b[1;32m    154\u001b[0m         \u001b[0;31m# inverse transform of empty array is empty array\u001b[0m\u001b[0;34m\u001b[0m\u001b[0;34m\u001b[0m\u001b[0m\n",
            "\u001b[0;32m/usr/local/lib/python3.10/dist-packages/sklearn/utils/validation.py\u001b[0m in \u001b[0;36mcheck_is_fitted\u001b[0;34m(estimator, attributes, msg, all_or_any)\u001b[0m\n\u001b[1;32m   1542\u001b[0m \u001b[0;34m\u001b[0m\u001b[0m\n\u001b[1;32m   1543\u001b[0m     \u001b[0;32mif\u001b[0m \u001b[0;32mnot\u001b[0m \u001b[0m_is_fitted\u001b[0m\u001b[0;34m(\u001b[0m\u001b[0mestimator\u001b[0m\u001b[0;34m,\u001b[0m \u001b[0mattributes\u001b[0m\u001b[0;34m,\u001b[0m \u001b[0mall_or_any\u001b[0m\u001b[0;34m)\u001b[0m\u001b[0;34m:\u001b[0m\u001b[0;34m\u001b[0m\u001b[0;34m\u001b[0m\u001b[0m\n\u001b[0;32m-> 1544\u001b[0;31m         \u001b[0;32mraise\u001b[0m \u001b[0mNotFittedError\u001b[0m\u001b[0;34m(\u001b[0m\u001b[0mmsg\u001b[0m \u001b[0;34m%\u001b[0m \u001b[0;34m{\u001b[0m\u001b[0;34m\"name\"\u001b[0m\u001b[0;34m:\u001b[0m \u001b[0mtype\u001b[0m\u001b[0;34m(\u001b[0m\u001b[0mestimator\u001b[0m\u001b[0;34m)\u001b[0m\u001b[0;34m.\u001b[0m\u001b[0m__name__\u001b[0m\u001b[0;34m}\u001b[0m\u001b[0;34m)\u001b[0m\u001b[0;34m\u001b[0m\u001b[0;34m\u001b[0m\u001b[0m\n\u001b[0m\u001b[1;32m   1545\u001b[0m \u001b[0;34m\u001b[0m\u001b[0m\n\u001b[1;32m   1546\u001b[0m \u001b[0;34m\u001b[0m\u001b[0m\n",
            "\u001b[0;31mNotFittedError\u001b[0m: This LabelEncoder instance is not fitted yet. Call 'fit' with appropriate arguments before using this estimator."
          ]
        }
      ]
    },
    {
      "cell_type": "code",
      "source": [
        "\n",
        "# Add predictions to the DataFrame or save them\n",
        "data['Predicted_State'] = y_pred_labels_original\n",
        "data.to_csv(\"predicted_data.csv\", index=False)\n",
        "\n",
        "print(\"Predictions saved to predicted_data.csv\")"
      ],
      "metadata": {
        "id": "2f6vuMUVEaQA"
      },
      "id": "2f6vuMUVEaQA",
      "execution_count": null,
      "outputs": []
    },
    {
      "cell_type": "markdown",
      "source": [
        "## Evaluation Metrics"
      ],
      "metadata": {
        "collapsed": false,
        "id": "a048e863cc04510b"
      },
      "id": "a048e863cc04510b"
    },
    {
      "cell_type": "code",
      "execution_count": null,
      "outputs": [
        {
          "output_type": "stream",
          "name": "stdout",
          "text": [
            "\n",
            "Classification Report for Logistic Regression:\n",
            "              precision    recall  f1-score   support\n",
            "\n",
            "           0       0.97      0.98      0.97     59350\n",
            "           1       0.92      0.86      0.89     13817\n",
            "\n",
            "    accuracy                           0.96     73167\n",
            "   macro avg       0.94      0.92      0.93     73167\n",
            "weighted avg       0.96      0.96      0.96     73167\n",
            "\n"
          ]
        },
        {
          "output_type": "display_data",
          "data": {
            "text/plain": [
              "<Figure size 800x600 with 1 Axes>"
            ],
            "image/png": "[encoded data removed]"
          },
          "metadata": {}
        },
        {
          "output_type": "stream",
          "name": "stdout",
          "text": [
            "\n",
            "Cross-Validation Results for Logistic Regression:\n",
            "Mean Accuracy: 95.85%\n",
            "Standard Deviation: 0.12\n",
            "Accuracy of the model on the test set: 95.65%\n"
          ]
        }
      ],
      "source": [
        "lr_precision = precision_score(y_train, lr_cv_predictions)\n",
        "lr_recall = recall_score(y_train, lr_cv_predictions)\n",
        "lr_f1 = f1_score(y_train, lr_cv_predictions)\n",
        "print(\"\\nClassification Report for Logistic Regression:\")\n",
        "print(classification_report(y_train, lr_cv_predictions))\n",
        "\n",
        "plt.figure(figsize=(8, 6))\n",
        "sns.heatmap(lr_conf_matrix, annot=True, fmt=\"d\", cmap=\"Blues\", cbar=False)\n",
        "plt.title(\"Logistic Regression Confusion Matrix\")\n",
        "plt.xlabel(\"Predicted\")\n",
        "plt.ylabel(\"True\")\n",
        "plt.show()\n",
        "\n",
        "# Cross-validation results\n",
        "print(\"\\nCross-Validation Results for Logistic Regression:\")\n",
        "print(f\"Mean Accuracy: {lr_cv_accuracy.mean()*100:.2f}%\")\n",
        "print(f\"Standard Deviation: {lr_cv_accuracy.std()*100:.2f}\")\n",
        "print(f\"Accuracy of the model on the test set: {lr_model.score(X_test, y_test)*100:.2f}%\")"
      ],
      "metadata": {
        "ExecuteTime": {
          "end_time": "2024-04-16T13:09:51.382012700Z",
          "start_time": "2024-04-16T13:09:51.119048700Z"
        },
        "colab": {
          "base_uri": "https://localhost:8080/",
          "height": 842
        },
        "id": "69fdf211f701b1e4",
        "outputId": "01c05e74-311b-45cb-ae81-3aa9ffdd81e3"
      },
      "id": "69fdf211f701b1e4"
    },
    {
      "cell_type": "markdown",
      "source": [
        "# Decision Tree Model"
      ],
      "metadata": {
        "collapsed": false,
        "id": "dfb254cc244b0a"
      },
      "id": "dfb254cc244b0a"
    },
    {
      "cell_type": "code",
      "execution_count": null,
      "outputs": [],
      "source": [
        "# Train the model\n",
        "dt_model = DecisionTreeClassifier()\n",
        "dt_model.fit(X_train, y_train)\n",
        "\n",
        "# Cross-validation\n",
        "dt_cv_accuracy = cross_val_score(dt_model, X_train, y_train, cv=5)\n",
        "dt_cv_predictions = cross_val_predict(dt_model, X_train, y_train, cv=5)\n",
        "\n",
        "# Confusion Matrix\n",
        "dt_conf_matrix = confusion_matrix(y_train, dt_cv_predictions)"
      ],
      "metadata": {
        "ExecuteTime": {
          "end_time": "2024-04-16T10:36:59.100947100Z",
          "start_time": "2024-04-16T10:36:58.747407500Z"
        },
        "id": "dfa6ff5a2c041a6c"
      },
      "id": "dfa6ff5a2c041a6c"
    },
    {
      "cell_type": "markdown",
      "source": [
        "## Evaluation Metrics"
      ],
      "metadata": {
        "collapsed": false,
        "id": "b3d448a572fc8a74"
      },
      "id": "b3d448a572fc8a74"
    },
    {
      "cell_type": "code",
      "execution_count": null,
      "outputs": [
        {
          "data": {
            "text/plain": "<Figure size 800x600 with 1 Axes>",
            "image/png": "[encoded data removed]"
          },
          "metadata": {},
          "output_type": "display_data"
        },
        {
          "name": "stdout",
          "output_type": "stream",
          "text": [
            "\n",
            "Cross-Validation Results for Decision Tree:\n",
            "Mean Accuracy: 82.58%\n",
            "Standard Deviation: 0.19\n",
            "Accuracy of the model on the test set: 82.97%\n",
            "\n",
            "Classification Report for Decision Tree:\n",
            "              precision    recall  f1-score   support\n",
            "\n",
            "           0       0.83      0.98      0.90     58531\n",
            "           1       0.71      0.22      0.34     14636\n",
            "\n",
            "    accuracy                           0.83     73167\n",
            "   macro avg       0.77      0.60      0.62     73167\n",
            "weighted avg       0.81      0.83      0.79     73167\n"
          ]
        }
      ],
      "source": [
        "dt_precision = precision_score(y_train, dt_cv_predictions)\n",
        "dt_recall = recall_score(y_train, dt_cv_predictions)\n",
        "dt_f1 = f1_score(y_train, dt_cv_predictions)\n",
        "\n",
        "plt.figure(figsize=(8, 6))\n",
        "sns.heatmap(dt_conf_matrix, annot=True, fmt=\"d\", cmap=\"Blues\", cbar=False)\n",
        "plt.title(\"Decision Tree Confusion Matrix\")\n",
        "plt.xlabel(\"Predicted\")\n",
        "plt.ylabel(\"True\")\n",
        "plt.show()\n",
        "\n",
        "# Cross-validation results\n",
        "print(\"\\nCross-Validation Results for Decision Tree:\")\n",
        "print(f\"Mean Accuracy: {dt_cv_accuracy.mean()*100:.2f}%\")\n",
        "print(f\"Standard Deviation: {dt_cv_accuracy.std()*100:.2f}\")\n",
        "print(f\"Accuracy of the model on the test set: {dt_model.score(X_test, y_test)*100:.2f}%\")\n",
        "print(\"\\nClassification Report for Decision Tree:\")\n",
        "print(classification_report(y_train, dt_cv_predictions))"
      ],
      "metadata": {
        "ExecuteTime": {
          "end_time": "2024-04-16T10:37:00.514565200Z",
          "start_time": "2024-04-16T10:37:00.248288200Z"
        },
        "id": "c09c0d823c0bb449",
        "outputId": "9cead5ac-8f5f-4ab6-b202-6deae78db0a6"
      },
      "id": "c09c0d823c0bb449"
    },
    {
      "cell_type": "markdown",
      "source": [
        "# Saving The Trained  LR Model"
      ],
      "metadata": {
        "collapsed": false,
        "id": "4464e681d9e059c0"
      },
      "id": "4464e681d9e059c0"
    },
    {
      "cell_type": "code",
      "execution_count": null,
      "outputs": [
        {
          "data": {
            "text/plain": "['lr_model.pkl']"
          },
          "execution_count": 73,
          "metadata": {},
          "output_type": "execute_result"
        }
      ],
      "source": [
        "joblib.dump(lr_model, 'lr_model.pkl')"
      ],
      "metadata": {
        "ExecuteTime": {
          "end_time": "2024-04-16T13:12:35.950540100Z",
          "start_time": "2024-04-16T13:12:35.940039600Z"
        },
        "id": "b2c067ff35e00994",
        "outputId": "c530a5f8-ca4b-47ac-8494-48dd28eaf1a6"
      },
      "id": "b2c067ff35e00994"
    }
  ],
  "metadata": {
    "kernelspec": {
      "display_name": "Python 3",
      "language": "python",
      "name": "python3"
    },
    "language_info": {
      "codemirror_mode": {
        "name": "ipython",
        "version": 2
      },
      "file_extension": ".py",
      "mimetype": "text/x-python",
      "name": "python",
      "nbconvert_exporter": "python",
      "pygments_lexer": "ipython2",
      "version": "2.7.6"
    },
    "colab": {
      "provenance": []
    }
  },
  "nbformat": 4,
  "nbformat_minor": 5
}